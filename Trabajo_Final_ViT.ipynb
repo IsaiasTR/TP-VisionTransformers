{
  "nbformat": 4,
  "nbformat_minor": 0,
  "metadata": {
    "colab": {
      "provenance": [],
      "gpuType": "V28"
    },
    "kernelspec": {
      "name": "python3",
      "display_name": "Python 3"
    },
    "language_info": {
      "name": "python"
    },
    "widgets": {
      "application/vnd.jupyter.widget-state+json": {
        "83da933295aa4cab9b5c287579f7eb7f": {
          "model_module": "@jupyter-widgets/controls",
          "model_name": "HBoxModel",
          "model_module_version": "1.5.0",
          "state": {
            "_dom_classes": [],
            "_model_module": "@jupyter-widgets/controls",
            "_model_module_version": "1.5.0",
            "_model_name": "HBoxModel",
            "_view_count": null,
            "_view_module": "@jupyter-widgets/controls",
            "_view_module_version": "1.5.0",
            "_view_name": "HBoxView",
            "box_style": "",
            "children": [
              "IPY_MODEL_ca565b2c8af044abbfa4a6e06e6f3eef",
              "IPY_MODEL_bd7496e904fa4235a5f82fa36ba4fb8c",
              "IPY_MODEL_477cbfa404484b8ba5095013609e3af0"
            ],
            "layout": "IPY_MODEL_fa5741a8a2f0492fa55d4a191d99707d"
          }
        },
        "ca565b2c8af044abbfa4a6e06e6f3eef": {
          "model_module": "@jupyter-widgets/controls",
          "model_name": "HTMLModel",
          "model_module_version": "1.5.0",
          "state": {
            "_dom_classes": [],
            "_model_module": "@jupyter-widgets/controls",
            "_model_module_version": "1.5.0",
            "_model_name": "HTMLModel",
            "_view_count": null,
            "_view_module": "@jupyter-widgets/controls",
            "_view_module_version": "1.5.0",
            "_view_name": "HTMLView",
            "description": "",
            "description_tooltip": null,
            "layout": "IPY_MODEL_621a6e6cb79f44c4bf2bc827610a0ad9",
            "placeholder": "​",
            "style": "IPY_MODEL_c44fd0386bc24ff5aa6d3022a2d69306",
            "value": "Resolving data files: 100%"
          }
        },
        "bd7496e904fa4235a5f82fa36ba4fb8c": {
          "model_module": "@jupyter-widgets/controls",
          "model_name": "FloatProgressModel",
          "model_module_version": "1.5.0",
          "state": {
            "_dom_classes": [],
            "_model_module": "@jupyter-widgets/controls",
            "_model_module_version": "1.5.0",
            "_model_name": "FloatProgressModel",
            "_view_count": null,
            "_view_module": "@jupyter-widgets/controls",
            "_view_module_version": "1.5.0",
            "_view_name": "ProgressView",
            "bar_style": "success",
            "description": "",
            "description_tooltip": null,
            "layout": "IPY_MODEL_0cb902bda6b04a929fa47c367395fe03",
            "max": 9994,
            "min": 0,
            "orientation": "horizontal",
            "style": "IPY_MODEL_2898ac0bd47b4bffbb7784f4df9b3163",
            "value": 9994
          }
        },
        "477cbfa404484b8ba5095013609e3af0": {
          "model_module": "@jupyter-widgets/controls",
          "model_name": "HTMLModel",
          "model_module_version": "1.5.0",
          "state": {
            "_dom_classes": [],
            "_model_module": "@jupyter-widgets/controls",
            "_model_module_version": "1.5.0",
            "_model_name": "HTMLModel",
            "_view_count": null,
            "_view_module": "@jupyter-widgets/controls",
            "_view_module_version": "1.5.0",
            "_view_name": "HTMLView",
            "description": "",
            "description_tooltip": null,
            "layout": "IPY_MODEL_5382c3e3eaef428db65231749d2c2d06",
            "placeholder": "​",
            "style": "IPY_MODEL_962d24ac9e404478924d52e0a911b9ee",
            "value": " 9994/9994 [00:01&lt;00:00, 6806.08it/s]"
          }
        },
        "fa5741a8a2f0492fa55d4a191d99707d": {
          "model_module": "@jupyter-widgets/base",
          "model_name": "LayoutModel",
          "model_module_version": "1.2.0",
          "state": {
            "_model_module": "@jupyter-widgets/base",
            "_model_module_version": "1.2.0",
            "_model_name": "LayoutModel",
            "_view_count": null,
            "_view_module": "@jupyter-widgets/base",
            "_view_module_version": "1.2.0",
            "_view_name": "LayoutView",
            "align_content": null,
            "align_items": null,
            "align_self": null,
            "border": null,
            "bottom": null,
            "display": null,
            "flex": null,
            "flex_flow": null,
            "grid_area": null,
            "grid_auto_columns": null,
            "grid_auto_flow": null,
            "grid_auto_rows": null,
            "grid_column": null,
            "grid_gap": null,
            "grid_row": null,
            "grid_template_areas": null,
            "grid_template_columns": null,
            "grid_template_rows": null,
            "height": null,
            "justify_content": null,
            "justify_items": null,
            "left": null,
            "margin": null,
            "max_height": null,
            "max_width": null,
            "min_height": null,
            "min_width": null,
            "object_fit": null,
            "object_position": null,
            "order": null,
            "overflow": null,
            "overflow_x": null,
            "overflow_y": null,
            "padding": null,
            "right": null,
            "top": null,
            "visibility": null,
            "width": null
          }
        },
        "621a6e6cb79f44c4bf2bc827610a0ad9": {
          "model_module": "@jupyter-widgets/base",
          "model_name": "LayoutModel",
          "model_module_version": "1.2.0",
          "state": {
            "_model_module": "@jupyter-widgets/base",
            "_model_module_version": "1.2.0",
            "_model_name": "LayoutModel",
            "_view_count": null,
            "_view_module": "@jupyter-widgets/base",
            "_view_module_version": "1.2.0",
            "_view_name": "LayoutView",
            "align_content": null,
            "align_items": null,
            "align_self": null,
            "border": null,
            "bottom": null,
            "display": null,
            "flex": null,
            "flex_flow": null,
            "grid_area": null,
            "grid_auto_columns": null,
            "grid_auto_flow": null,
            "grid_auto_rows": null,
            "grid_column": null,
            "grid_gap": null,
            "grid_row": null,
            "grid_template_areas": null,
            "grid_template_columns": null,
            "grid_template_rows": null,
            "height": null,
            "justify_content": null,
            "justify_items": null,
            "left": null,
            "margin": null,
            "max_height": null,
            "max_width": null,
            "min_height": null,
            "min_width": null,
            "object_fit": null,
            "object_position": null,
            "order": null,
            "overflow": null,
            "overflow_x": null,
            "overflow_y": null,
            "padding": null,
            "right": null,
            "top": null,
            "visibility": null,
            "width": null
          }
        },
        "c44fd0386bc24ff5aa6d3022a2d69306": {
          "model_module": "@jupyter-widgets/controls",
          "model_name": "DescriptionStyleModel",
          "model_module_version": "1.5.0",
          "state": {
            "_model_module": "@jupyter-widgets/controls",
            "_model_module_version": "1.5.0",
            "_model_name": "DescriptionStyleModel",
            "_view_count": null,
            "_view_module": "@jupyter-widgets/base",
            "_view_module_version": "1.2.0",
            "_view_name": "StyleView",
            "description_width": ""
          }
        },
        "0cb902bda6b04a929fa47c367395fe03": {
          "model_module": "@jupyter-widgets/base",
          "model_name": "LayoutModel",
          "model_module_version": "1.2.0",
          "state": {
            "_model_module": "@jupyter-widgets/base",
            "_model_module_version": "1.2.0",
            "_model_name": "LayoutModel",
            "_view_count": null,
            "_view_module": "@jupyter-widgets/base",
            "_view_module_version": "1.2.0",
            "_view_name": "LayoutView",
            "align_content": null,
            "align_items": null,
            "align_self": null,
            "border": null,
            "bottom": null,
            "display": null,
            "flex": null,
            "flex_flow": null,
            "grid_area": null,
            "grid_auto_columns": null,
            "grid_auto_flow": null,
            "grid_auto_rows": null,
            "grid_column": null,
            "grid_gap": null,
            "grid_row": null,
            "grid_template_areas": null,
            "grid_template_columns": null,
            "grid_template_rows": null,
            "height": null,
            "justify_content": null,
            "justify_items": null,
            "left": null,
            "margin": null,
            "max_height": null,
            "max_width": null,
            "min_height": null,
            "min_width": null,
            "object_fit": null,
            "object_position": null,
            "order": null,
            "overflow": null,
            "overflow_x": null,
            "overflow_y": null,
            "padding": null,
            "right": null,
            "top": null,
            "visibility": null,
            "width": null
          }
        },
        "2898ac0bd47b4bffbb7784f4df9b3163": {
          "model_module": "@jupyter-widgets/controls",
          "model_name": "ProgressStyleModel",
          "model_module_version": "1.5.0",
          "state": {
            "_model_module": "@jupyter-widgets/controls",
            "_model_module_version": "1.5.0",
            "_model_name": "ProgressStyleModel",
            "_view_count": null,
            "_view_module": "@jupyter-widgets/base",
            "_view_module_version": "1.2.0",
            "_view_name": "StyleView",
            "bar_color": null,
            "description_width": ""
          }
        },
        "5382c3e3eaef428db65231749d2c2d06": {
          "model_module": "@jupyter-widgets/base",
          "model_name": "LayoutModel",
          "model_module_version": "1.2.0",
          "state": {
            "_model_module": "@jupyter-widgets/base",
            "_model_module_version": "1.2.0",
            "_model_name": "LayoutModel",
            "_view_count": null,
            "_view_module": "@jupyter-widgets/base",
            "_view_module_version": "1.2.0",
            "_view_name": "LayoutView",
            "align_content": null,
            "align_items": null,
            "align_self": null,
            "border": null,
            "bottom": null,
            "display": null,
            "flex": null,
            "flex_flow": null,
            "grid_area": null,
            "grid_auto_columns": null,
            "grid_auto_flow": null,
            "grid_auto_rows": null,
            "grid_column": null,
            "grid_gap": null,
            "grid_row": null,
            "grid_template_areas": null,
            "grid_template_columns": null,
            "grid_template_rows": null,
            "height": null,
            "justify_content": null,
            "justify_items": null,
            "left": null,
            "margin": null,
            "max_height": null,
            "max_width": null,
            "min_height": null,
            "min_width": null,
            "object_fit": null,
            "object_position": null,
            "order": null,
            "overflow": null,
            "overflow_x": null,
            "overflow_y": null,
            "padding": null,
            "right": null,
            "top": null,
            "visibility": null,
            "width": null
          }
        },
        "962d24ac9e404478924d52e0a911b9ee": {
          "model_module": "@jupyter-widgets/controls",
          "model_name": "DescriptionStyleModel",
          "model_module_version": "1.5.0",
          "state": {
            "_model_module": "@jupyter-widgets/controls",
            "_model_module_version": "1.5.0",
            "_model_name": "DescriptionStyleModel",
            "_view_count": null,
            "_view_module": "@jupyter-widgets/base",
            "_view_module_version": "1.2.0",
            "_view_name": "StyleView",
            "description_width": ""
          }
        },
        "9eb5539f31284434893a55ff443b6118": {
          "model_module": "@jupyter-widgets/controls",
          "model_name": "HBoxModel",
          "model_module_version": "1.5.0",
          "state": {
            "_dom_classes": [],
            "_model_module": "@jupyter-widgets/controls",
            "_model_module_version": "1.5.0",
            "_model_name": "HBoxModel",
            "_view_count": null,
            "_view_module": "@jupyter-widgets/controls",
            "_view_module_version": "1.5.0",
            "_view_name": "HBoxView",
            "box_style": "",
            "children": [
              "IPY_MODEL_6c2020a7f148464c9745cbb229adeaaa",
              "IPY_MODEL_b6ee30b280314b6f8a3adfe1dc1fdc48",
              "IPY_MODEL_36d44778985a4b3f97701ad99756a60f"
            ],
            "layout": "IPY_MODEL_01fdb9e964144d15b5ccf1520e5e7bd7"
          }
        },
        "6c2020a7f148464c9745cbb229adeaaa": {
          "model_module": "@jupyter-widgets/controls",
          "model_name": "HTMLModel",
          "model_module_version": "1.5.0",
          "state": {
            "_dom_classes": [],
            "_model_module": "@jupyter-widgets/controls",
            "_model_module_version": "1.5.0",
            "_model_name": "HTMLModel",
            "_view_count": null,
            "_view_module": "@jupyter-widgets/controls",
            "_view_module_version": "1.5.0",
            "_view_name": "HTMLView",
            "description": "",
            "description_tooltip": null,
            "layout": "IPY_MODEL_38e43e0d67bf4cde9cc9221cce305c96",
            "placeholder": "​",
            "style": "IPY_MODEL_14cade1357c24bb0b789f41b301a404d",
            "value": "Resolving data files: 100%"
          }
        },
        "b6ee30b280314b6f8a3adfe1dc1fdc48": {
          "model_module": "@jupyter-widgets/controls",
          "model_name": "FloatProgressModel",
          "model_module_version": "1.5.0",
          "state": {
            "_dom_classes": [],
            "_model_module": "@jupyter-widgets/controls",
            "_model_module_version": "1.5.0",
            "_model_name": "FloatProgressModel",
            "_view_count": null,
            "_view_module": "@jupyter-widgets/controls",
            "_view_module_version": "1.5.0",
            "_view_name": "ProgressView",
            "bar_style": "success",
            "description": "",
            "description_tooltip": null,
            "layout": "IPY_MODEL_3a6289ef66294dac8c36fec130da2fe9",
            "max": 800,
            "min": 0,
            "orientation": "horizontal",
            "style": "IPY_MODEL_3cb97b7075c44469a40292abe74e5b25",
            "value": 800
          }
        },
        "36d44778985a4b3f97701ad99756a60f": {
          "model_module": "@jupyter-widgets/controls",
          "model_name": "HTMLModel",
          "model_module_version": "1.5.0",
          "state": {
            "_dom_classes": [],
            "_model_module": "@jupyter-widgets/controls",
            "_model_module_version": "1.5.0",
            "_model_name": "HTMLModel",
            "_view_count": null,
            "_view_module": "@jupyter-widgets/controls",
            "_view_module_version": "1.5.0",
            "_view_name": "HTMLView",
            "description": "",
            "description_tooltip": null,
            "layout": "IPY_MODEL_8e1992486c134f1c98e8866eefb92de6",
            "placeholder": "​",
            "style": "IPY_MODEL_5f0fcc8dce88400199f1d63ff2669863",
            "value": " 800/800 [00:00&lt;00:00, 4049.58it/s]"
          }
        },
        "01fdb9e964144d15b5ccf1520e5e7bd7": {
          "model_module": "@jupyter-widgets/base",
          "model_name": "LayoutModel",
          "model_module_version": "1.2.0",
          "state": {
            "_model_module": "@jupyter-widgets/base",
            "_model_module_version": "1.2.0",
            "_model_name": "LayoutModel",
            "_view_count": null,
            "_view_module": "@jupyter-widgets/base",
            "_view_module_version": "1.2.0",
            "_view_name": "LayoutView",
            "align_content": null,
            "align_items": null,
            "align_self": null,
            "border": null,
            "bottom": null,
            "display": null,
            "flex": null,
            "flex_flow": null,
            "grid_area": null,
            "grid_auto_columns": null,
            "grid_auto_flow": null,
            "grid_auto_rows": null,
            "grid_column": null,
            "grid_gap": null,
            "grid_row": null,
            "grid_template_areas": null,
            "grid_template_columns": null,
            "grid_template_rows": null,
            "height": null,
            "justify_content": null,
            "justify_items": null,
            "left": null,
            "margin": null,
            "max_height": null,
            "max_width": null,
            "min_height": null,
            "min_width": null,
            "object_fit": null,
            "object_position": null,
            "order": null,
            "overflow": null,
            "overflow_x": null,
            "overflow_y": null,
            "padding": null,
            "right": null,
            "top": null,
            "visibility": null,
            "width": null
          }
        },
        "38e43e0d67bf4cde9cc9221cce305c96": {
          "model_module": "@jupyter-widgets/base",
          "model_name": "LayoutModel",
          "model_module_version": "1.2.0",
          "state": {
            "_model_module": "@jupyter-widgets/base",
            "_model_module_version": "1.2.0",
            "_model_name": "LayoutModel",
            "_view_count": null,
            "_view_module": "@jupyter-widgets/base",
            "_view_module_version": "1.2.0",
            "_view_name": "LayoutView",
            "align_content": null,
            "align_items": null,
            "align_self": null,
            "border": null,
            "bottom": null,
            "display": null,
            "flex": null,
            "flex_flow": null,
            "grid_area": null,
            "grid_auto_columns": null,
            "grid_auto_flow": null,
            "grid_auto_rows": null,
            "grid_column": null,
            "grid_gap": null,
            "grid_row": null,
            "grid_template_areas": null,
            "grid_template_columns": null,
            "grid_template_rows": null,
            "height": null,
            "justify_content": null,
            "justify_items": null,
            "left": null,
            "margin": null,
            "max_height": null,
            "max_width": null,
            "min_height": null,
            "min_width": null,
            "object_fit": null,
            "object_position": null,
            "order": null,
            "overflow": null,
            "overflow_x": null,
            "overflow_y": null,
            "padding": null,
            "right": null,
            "top": null,
            "visibility": null,
            "width": null
          }
        },
        "14cade1357c24bb0b789f41b301a404d": {
          "model_module": "@jupyter-widgets/controls",
          "model_name": "DescriptionStyleModel",
          "model_module_version": "1.5.0",
          "state": {
            "_model_module": "@jupyter-widgets/controls",
            "_model_module_version": "1.5.0",
            "_model_name": "DescriptionStyleModel",
            "_view_count": null,
            "_view_module": "@jupyter-widgets/base",
            "_view_module_version": "1.2.0",
            "_view_name": "StyleView",
            "description_width": ""
          }
        },
        "3a6289ef66294dac8c36fec130da2fe9": {
          "model_module": "@jupyter-widgets/base",
          "model_name": "LayoutModel",
          "model_module_version": "1.2.0",
          "state": {
            "_model_module": "@jupyter-widgets/base",
            "_model_module_version": "1.2.0",
            "_model_name": "LayoutModel",
            "_view_count": null,
            "_view_module": "@jupyter-widgets/base",
            "_view_module_version": "1.2.0",
            "_view_name": "LayoutView",
            "align_content": null,
            "align_items": null,
            "align_self": null,
            "border": null,
            "bottom": null,
            "display": null,
            "flex": null,
            "flex_flow": null,
            "grid_area": null,
            "grid_auto_columns": null,
            "grid_auto_flow": null,
            "grid_auto_rows": null,
            "grid_column": null,
            "grid_gap": null,
            "grid_row": null,
            "grid_template_areas": null,
            "grid_template_columns": null,
            "grid_template_rows": null,
            "height": null,
            "justify_content": null,
            "justify_items": null,
            "left": null,
            "margin": null,
            "max_height": null,
            "max_width": null,
            "min_height": null,
            "min_width": null,
            "object_fit": null,
            "object_position": null,
            "order": null,
            "overflow": null,
            "overflow_x": null,
            "overflow_y": null,
            "padding": null,
            "right": null,
            "top": null,
            "visibility": null,
            "width": null
          }
        },
        "3cb97b7075c44469a40292abe74e5b25": {
          "model_module": "@jupyter-widgets/controls",
          "model_name": "ProgressStyleModel",
          "model_module_version": "1.5.0",
          "state": {
            "_model_module": "@jupyter-widgets/controls",
            "_model_module_version": "1.5.0",
            "_model_name": "ProgressStyleModel",
            "_view_count": null,
            "_view_module": "@jupyter-widgets/base",
            "_view_module_version": "1.2.0",
            "_view_name": "StyleView",
            "bar_color": null,
            "description_width": ""
          }
        },
        "8e1992486c134f1c98e8866eefb92de6": {
          "model_module": "@jupyter-widgets/base",
          "model_name": "LayoutModel",
          "model_module_version": "1.2.0",
          "state": {
            "_model_module": "@jupyter-widgets/base",
            "_model_module_version": "1.2.0",
            "_model_name": "LayoutModel",
            "_view_count": null,
            "_view_module": "@jupyter-widgets/base",
            "_view_module_version": "1.2.0",
            "_view_name": "LayoutView",
            "align_content": null,
            "align_items": null,
            "align_self": null,
            "border": null,
            "bottom": null,
            "display": null,
            "flex": null,
            "flex_flow": null,
            "grid_area": null,
            "grid_auto_columns": null,
            "grid_auto_flow": null,
            "grid_auto_rows": null,
            "grid_column": null,
            "grid_gap": null,
            "grid_row": null,
            "grid_template_areas": null,
            "grid_template_columns": null,
            "grid_template_rows": null,
            "height": null,
            "justify_content": null,
            "justify_items": null,
            "left": null,
            "margin": null,
            "max_height": null,
            "max_width": null,
            "min_height": null,
            "min_width": null,
            "object_fit": null,
            "object_position": null,
            "order": null,
            "overflow": null,
            "overflow_x": null,
            "overflow_y": null,
            "padding": null,
            "right": null,
            "top": null,
            "visibility": null,
            "width": null
          }
        },
        "5f0fcc8dce88400199f1d63ff2669863": {
          "model_module": "@jupyter-widgets/controls",
          "model_name": "DescriptionStyleModel",
          "model_module_version": "1.5.0",
          "state": {
            "_model_module": "@jupyter-widgets/controls",
            "_model_module_version": "1.5.0",
            "_model_name": "DescriptionStyleModel",
            "_view_count": null,
            "_view_module": "@jupyter-widgets/base",
            "_view_module_version": "1.2.0",
            "_view_name": "StyleView",
            "description_width": ""
          }
        },
        "f6e8e8d8a81b4c2c96e886fdf0772d70": {
          "model_module": "@jupyter-widgets/controls",
          "model_name": "HBoxModel",
          "model_module_version": "1.5.0",
          "state": {
            "_dom_classes": [],
            "_model_module": "@jupyter-widgets/controls",
            "_model_module_version": "1.5.0",
            "_model_name": "HBoxModel",
            "_view_count": null,
            "_view_module": "@jupyter-widgets/controls",
            "_view_module_version": "1.5.0",
            "_view_name": "HBoxView",
            "box_style": "",
            "children": [
              "IPY_MODEL_2dc9b94c66d247b8b96e03e40d5ca8dd",
              "IPY_MODEL_b623d797124147fba8af6a0b1b99c8d8",
              "IPY_MODEL_b4617ac18b6742ac9a9f320996a721a0"
            ],
            "layout": "IPY_MODEL_72f92a2b40704a4fae03ceb1a8c82c8e"
          }
        },
        "2dc9b94c66d247b8b96e03e40d5ca8dd": {
          "model_module": "@jupyter-widgets/controls",
          "model_name": "HTMLModel",
          "model_module_version": "1.5.0",
          "state": {
            "_dom_classes": [],
            "_model_module": "@jupyter-widgets/controls",
            "_model_module_version": "1.5.0",
            "_model_name": "HTMLModel",
            "_view_count": null,
            "_view_module": "@jupyter-widgets/controls",
            "_view_module_version": "1.5.0",
            "_view_name": "HTMLView",
            "description": "",
            "description_tooltip": null,
            "layout": "IPY_MODEL_9d7bbd0fc25c42d384397c6b7e6d1765",
            "placeholder": "​",
            "style": "IPY_MODEL_cac6e86da7474a6e888ac5503cfeb20c",
            "value": "Resolving data files: 100%"
          }
        },
        "b623d797124147fba8af6a0b1b99c8d8": {
          "model_module": "@jupyter-widgets/controls",
          "model_name": "FloatProgressModel",
          "model_module_version": "1.5.0",
          "state": {
            "_dom_classes": [],
            "_model_module": "@jupyter-widgets/controls",
            "_model_module_version": "1.5.0",
            "_model_name": "FloatProgressModel",
            "_view_count": null,
            "_view_module": "@jupyter-widgets/controls",
            "_view_module_version": "1.5.0",
            "_view_name": "ProgressView",
            "bar_style": "success",
            "description": "",
            "description_tooltip": null,
            "layout": "IPY_MODEL_bbd41917115c4c29856059630a2bb5b9",
            "max": 992,
            "min": 0,
            "orientation": "horizontal",
            "style": "IPY_MODEL_765803dccddf467788f87d4902885179",
            "value": 992
          }
        },
        "b4617ac18b6742ac9a9f320996a721a0": {
          "model_module": "@jupyter-widgets/controls",
          "model_name": "HTMLModel",
          "model_module_version": "1.5.0",
          "state": {
            "_dom_classes": [],
            "_model_module": "@jupyter-widgets/controls",
            "_model_module_version": "1.5.0",
            "_model_name": "HTMLModel",
            "_view_count": null,
            "_view_module": "@jupyter-widgets/controls",
            "_view_module_version": "1.5.0",
            "_view_name": "HTMLView",
            "description": "",
            "description_tooltip": null,
            "layout": "IPY_MODEL_5545e29faa7f4b1094d4533d9030328a",
            "placeholder": "​",
            "style": "IPY_MODEL_f0dd8093fd5e4f08ac621ef557af726d",
            "value": " 992/992 [00:00&lt;00:00, 3181.27it/s]"
          }
        },
        "72f92a2b40704a4fae03ceb1a8c82c8e": {
          "model_module": "@jupyter-widgets/base",
          "model_name": "LayoutModel",
          "model_module_version": "1.2.0",
          "state": {
            "_model_module": "@jupyter-widgets/base",
            "_model_module_version": "1.2.0",
            "_model_name": "LayoutModel",
            "_view_count": null,
            "_view_module": "@jupyter-widgets/base",
            "_view_module_version": "1.2.0",
            "_view_name": "LayoutView",
            "align_content": null,
            "align_items": null,
            "align_self": null,
            "border": null,
            "bottom": null,
            "display": null,
            "flex": null,
            "flex_flow": null,
            "grid_area": null,
            "grid_auto_columns": null,
            "grid_auto_flow": null,
            "grid_auto_rows": null,
            "grid_column": null,
            "grid_gap": null,
            "grid_row": null,
            "grid_template_areas": null,
            "grid_template_columns": null,
            "grid_template_rows": null,
            "height": null,
            "justify_content": null,
            "justify_items": null,
            "left": null,
            "margin": null,
            "max_height": null,
            "max_width": null,
            "min_height": null,
            "min_width": null,
            "object_fit": null,
            "object_position": null,
            "order": null,
            "overflow": null,
            "overflow_x": null,
            "overflow_y": null,
            "padding": null,
            "right": null,
            "top": null,
            "visibility": null,
            "width": null
          }
        },
        "9d7bbd0fc25c42d384397c6b7e6d1765": {
          "model_module": "@jupyter-widgets/base",
          "model_name": "LayoutModel",
          "model_module_version": "1.2.0",
          "state": {
            "_model_module": "@jupyter-widgets/base",
            "_model_module_version": "1.2.0",
            "_model_name": "LayoutModel",
            "_view_count": null,
            "_view_module": "@jupyter-widgets/base",
            "_view_module_version": "1.2.0",
            "_view_name": "LayoutView",
            "align_content": null,
            "align_items": null,
            "align_self": null,
            "border": null,
            "bottom": null,
            "display": null,
            "flex": null,
            "flex_flow": null,
            "grid_area": null,
            "grid_auto_columns": null,
            "grid_auto_flow": null,
            "grid_auto_rows": null,
            "grid_column": null,
            "grid_gap": null,
            "grid_row": null,
            "grid_template_areas": null,
            "grid_template_columns": null,
            "grid_template_rows": null,
            "height": null,
            "justify_content": null,
            "justify_items": null,
            "left": null,
            "margin": null,
            "max_height": null,
            "max_width": null,
            "min_height": null,
            "min_width": null,
            "object_fit": null,
            "object_position": null,
            "order": null,
            "overflow": null,
            "overflow_x": null,
            "overflow_y": null,
            "padding": null,
            "right": null,
            "top": null,
            "visibility": null,
            "width": null
          }
        },
        "cac6e86da7474a6e888ac5503cfeb20c": {
          "model_module": "@jupyter-widgets/controls",
          "model_name": "DescriptionStyleModel",
          "model_module_version": "1.5.0",
          "state": {
            "_model_module": "@jupyter-widgets/controls",
            "_model_module_version": "1.5.0",
            "_model_name": "DescriptionStyleModel",
            "_view_count": null,
            "_view_module": "@jupyter-widgets/base",
            "_view_module_version": "1.2.0",
            "_view_name": "StyleView",
            "description_width": ""
          }
        },
        "bbd41917115c4c29856059630a2bb5b9": {
          "model_module": "@jupyter-widgets/base",
          "model_name": "LayoutModel",
          "model_module_version": "1.2.0",
          "state": {
            "_model_module": "@jupyter-widgets/base",
            "_model_module_version": "1.2.0",
            "_model_name": "LayoutModel",
            "_view_count": null,
            "_view_module": "@jupyter-widgets/base",
            "_view_module_version": "1.2.0",
            "_view_name": "LayoutView",
            "align_content": null,
            "align_items": null,
            "align_self": null,
            "border": null,
            "bottom": null,
            "display": null,
            "flex": null,
            "flex_flow": null,
            "grid_area": null,
            "grid_auto_columns": null,
            "grid_auto_flow": null,
            "grid_auto_rows": null,
            "grid_column": null,
            "grid_gap": null,
            "grid_row": null,
            "grid_template_areas": null,
            "grid_template_columns": null,
            "grid_template_rows": null,
            "height": null,
            "justify_content": null,
            "justify_items": null,
            "left": null,
            "margin": null,
            "max_height": null,
            "max_width": null,
            "min_height": null,
            "min_width": null,
            "object_fit": null,
            "object_position": null,
            "order": null,
            "overflow": null,
            "overflow_x": null,
            "overflow_y": null,
            "padding": null,
            "right": null,
            "top": null,
            "visibility": null,
            "width": null
          }
        },
        "765803dccddf467788f87d4902885179": {
          "model_module": "@jupyter-widgets/controls",
          "model_name": "ProgressStyleModel",
          "model_module_version": "1.5.0",
          "state": {
            "_model_module": "@jupyter-widgets/controls",
            "_model_module_version": "1.5.0",
            "_model_name": "ProgressStyleModel",
            "_view_count": null,
            "_view_module": "@jupyter-widgets/base",
            "_view_module_version": "1.2.0",
            "_view_name": "StyleView",
            "bar_color": null,
            "description_width": ""
          }
        },
        "5545e29faa7f4b1094d4533d9030328a": {
          "model_module": "@jupyter-widgets/base",
          "model_name": "LayoutModel",
          "model_module_version": "1.2.0",
          "state": {
            "_model_module": "@jupyter-widgets/base",
            "_model_module_version": "1.2.0",
            "_model_name": "LayoutModel",
            "_view_count": null,
            "_view_module": "@jupyter-widgets/base",
            "_view_module_version": "1.2.0",
            "_view_name": "LayoutView",
            "align_content": null,
            "align_items": null,
            "align_self": null,
            "border": null,
            "bottom": null,
            "display": null,
            "flex": null,
            "flex_flow": null,
            "grid_area": null,
            "grid_auto_columns": null,
            "grid_auto_flow": null,
            "grid_auto_rows": null,
            "grid_column": null,
            "grid_gap": null,
            "grid_row": null,
            "grid_template_areas": null,
            "grid_template_columns": null,
            "grid_template_rows": null,
            "height": null,
            "justify_content": null,
            "justify_items": null,
            "left": null,
            "margin": null,
            "max_height": null,
            "max_width": null,
            "min_height": null,
            "min_width": null,
            "object_fit": null,
            "object_position": null,
            "order": null,
            "overflow": null,
            "overflow_x": null,
            "overflow_y": null,
            "padding": null,
            "right": null,
            "top": null,
            "visibility": null,
            "width": null
          }
        },
        "f0dd8093fd5e4f08ac621ef557af726d": {
          "model_module": "@jupyter-widgets/controls",
          "model_name": "DescriptionStyleModel",
          "model_module_version": "1.5.0",
          "state": {
            "_model_module": "@jupyter-widgets/controls",
            "_model_module_version": "1.5.0",
            "_model_name": "DescriptionStyleModel",
            "_view_count": null,
            "_view_module": "@jupyter-widgets/base",
            "_view_module_version": "1.2.0",
            "_view_name": "StyleView",
            "description_width": ""
          }
        },
        "320dcfd81267431db12001a545eb184d": {
          "model_module": "@jupyter-widgets/controls",
          "model_name": "HBoxModel",
          "model_module_version": "1.5.0",
          "state": {
            "_dom_classes": [],
            "_model_module": "@jupyter-widgets/controls",
            "_model_module_version": "1.5.0",
            "_model_name": "HBoxModel",
            "_view_count": null,
            "_view_module": "@jupyter-widgets/controls",
            "_view_module_version": "1.5.0",
            "_view_name": "HBoxView",
            "box_style": "",
            "children": [
              "IPY_MODEL_9b5eb72b630940b5815e1a26eccd2375",
              "IPY_MODEL_453bdf0dc292402cb8a8f9def1137000",
              "IPY_MODEL_1f5c9c687cbc49ef8181696866a34ab4"
            ],
            "layout": "IPY_MODEL_31b6f591305c46caa0487f6dd186f3cf"
          }
        },
        "9b5eb72b630940b5815e1a26eccd2375": {
          "model_module": "@jupyter-widgets/controls",
          "model_name": "HTMLModel",
          "model_module_version": "1.5.0",
          "state": {
            "_dom_classes": [],
            "_model_module": "@jupyter-widgets/controls",
            "_model_module_version": "1.5.0",
            "_model_name": "HTMLModel",
            "_view_count": null,
            "_view_module": "@jupyter-widgets/controls",
            "_view_module_version": "1.5.0",
            "_view_name": "HTMLView",
            "description": "",
            "description_tooltip": null,
            "layout": "IPY_MODEL_7c5f2f6fc18c49e1916a571c835fb5c6",
            "placeholder": "​",
            "style": "IPY_MODEL_723b39ed5c93423aab439a9efbd9eff2",
            "value": "Downloading data: 100%"
          }
        },
        "453bdf0dc292402cb8a8f9def1137000": {
          "model_module": "@jupyter-widgets/controls",
          "model_name": "FloatProgressModel",
          "model_module_version": "1.5.0",
          "state": {
            "_dom_classes": [],
            "_model_module": "@jupyter-widgets/controls",
            "_model_module_version": "1.5.0",
            "_model_name": "FloatProgressModel",
            "_view_count": null,
            "_view_module": "@jupyter-widgets/controls",
            "_view_module_version": "1.5.0",
            "_view_name": "ProgressView",
            "bar_style": "success",
            "description": "",
            "description_tooltip": null,
            "layout": "IPY_MODEL_d7041a5a67d44f5f9516b8bc29e874e7",
            "max": 9994,
            "min": 0,
            "orientation": "horizontal",
            "style": "IPY_MODEL_08446de5311d4e3a8e9f182996b93976",
            "value": 9994
          }
        },
        "1f5c9c687cbc49ef8181696866a34ab4": {
          "model_module": "@jupyter-widgets/controls",
          "model_name": "HTMLModel",
          "model_module_version": "1.5.0",
          "state": {
            "_dom_classes": [],
            "_model_module": "@jupyter-widgets/controls",
            "_model_module_version": "1.5.0",
            "_model_name": "HTMLModel",
            "_view_count": null,
            "_view_module": "@jupyter-widgets/controls",
            "_view_module_version": "1.5.0",
            "_view_name": "HTMLView",
            "description": "",
            "description_tooltip": null,
            "layout": "IPY_MODEL_82c25d2618f7419996521d59041d10f8",
            "placeholder": "​",
            "style": "IPY_MODEL_f7d68ae10fbb40a88a134ad6af521148",
            "value": " 9994/9994 [00:02&lt;00:00, 3392.34files/s]"
          }
        },
        "31b6f591305c46caa0487f6dd186f3cf": {
          "model_module": "@jupyter-widgets/base",
          "model_name": "LayoutModel",
          "model_module_version": "1.2.0",
          "state": {
            "_model_module": "@jupyter-widgets/base",
            "_model_module_version": "1.2.0",
            "_model_name": "LayoutModel",
            "_view_count": null,
            "_view_module": "@jupyter-widgets/base",
            "_view_module_version": "1.2.0",
            "_view_name": "LayoutView",
            "align_content": null,
            "align_items": null,
            "align_self": null,
            "border": null,
            "bottom": null,
            "display": null,
            "flex": null,
            "flex_flow": null,
            "grid_area": null,
            "grid_auto_columns": null,
            "grid_auto_flow": null,
            "grid_auto_rows": null,
            "grid_column": null,
            "grid_gap": null,
            "grid_row": null,
            "grid_template_areas": null,
            "grid_template_columns": null,
            "grid_template_rows": null,
            "height": null,
            "justify_content": null,
            "justify_items": null,
            "left": null,
            "margin": null,
            "max_height": null,
            "max_width": null,
            "min_height": null,
            "min_width": null,
            "object_fit": null,
            "object_position": null,
            "order": null,
            "overflow": null,
            "overflow_x": null,
            "overflow_y": null,
            "padding": null,
            "right": null,
            "top": null,
            "visibility": null,
            "width": null
          }
        },
        "7c5f2f6fc18c49e1916a571c835fb5c6": {
          "model_module": "@jupyter-widgets/base",
          "model_name": "LayoutModel",
          "model_module_version": "1.2.0",
          "state": {
            "_model_module": "@jupyter-widgets/base",
            "_model_module_version": "1.2.0",
            "_model_name": "LayoutModel",
            "_view_count": null,
            "_view_module": "@jupyter-widgets/base",
            "_view_module_version": "1.2.0",
            "_view_name": "LayoutView",
            "align_content": null,
            "align_items": null,
            "align_self": null,
            "border": null,
            "bottom": null,
            "display": null,
            "flex": null,
            "flex_flow": null,
            "grid_area": null,
            "grid_auto_columns": null,
            "grid_auto_flow": null,
            "grid_auto_rows": null,
            "grid_column": null,
            "grid_gap": null,
            "grid_row": null,
            "grid_template_areas": null,
            "grid_template_columns": null,
            "grid_template_rows": null,
            "height": null,
            "justify_content": null,
            "justify_items": null,
            "left": null,
            "margin": null,
            "max_height": null,
            "max_width": null,
            "min_height": null,
            "min_width": null,
            "object_fit": null,
            "object_position": null,
            "order": null,
            "overflow": null,
            "overflow_x": null,
            "overflow_y": null,
            "padding": null,
            "right": null,
            "top": null,
            "visibility": null,
            "width": null
          }
        },
        "723b39ed5c93423aab439a9efbd9eff2": {
          "model_module": "@jupyter-widgets/controls",
          "model_name": "DescriptionStyleModel",
          "model_module_version": "1.5.0",
          "state": {
            "_model_module": "@jupyter-widgets/controls",
            "_model_module_version": "1.5.0",
            "_model_name": "DescriptionStyleModel",
            "_view_count": null,
            "_view_module": "@jupyter-widgets/base",
            "_view_module_version": "1.2.0",
            "_view_name": "StyleView",
            "description_width": ""
          }
        },
        "d7041a5a67d44f5f9516b8bc29e874e7": {
          "model_module": "@jupyter-widgets/base",
          "model_name": "LayoutModel",
          "model_module_version": "1.2.0",
          "state": {
            "_model_module": "@jupyter-widgets/base",
            "_model_module_version": "1.2.0",
            "_model_name": "LayoutModel",
            "_view_count": null,
            "_view_module": "@jupyter-widgets/base",
            "_view_module_version": "1.2.0",
            "_view_name": "LayoutView",
            "align_content": null,
            "align_items": null,
            "align_self": null,
            "border": null,
            "bottom": null,
            "display": null,
            "flex": null,
            "flex_flow": null,
            "grid_area": null,
            "grid_auto_columns": null,
            "grid_auto_flow": null,
            "grid_auto_rows": null,
            "grid_column": null,
            "grid_gap": null,
            "grid_row": null,
            "grid_template_areas": null,
            "grid_template_columns": null,
            "grid_template_rows": null,
            "height": null,
            "justify_content": null,
            "justify_items": null,
            "left": null,
            "margin": null,
            "max_height": null,
            "max_width": null,
            "min_height": null,
            "min_width": null,
            "object_fit": null,
            "object_position": null,
            "order": null,
            "overflow": null,
            "overflow_x": null,
            "overflow_y": null,
            "padding": null,
            "right": null,
            "top": null,
            "visibility": null,
            "width": null
          }
        },
        "08446de5311d4e3a8e9f182996b93976": {
          "model_module": "@jupyter-widgets/controls",
          "model_name": "ProgressStyleModel",
          "model_module_version": "1.5.0",
          "state": {
            "_model_module": "@jupyter-widgets/controls",
            "_model_module_version": "1.5.0",
            "_model_name": "ProgressStyleModel",
            "_view_count": null,
            "_view_module": "@jupyter-widgets/base",
            "_view_module_version": "1.2.0",
            "_view_name": "StyleView",
            "bar_color": null,
            "description_width": ""
          }
        },
        "82c25d2618f7419996521d59041d10f8": {
          "model_module": "@jupyter-widgets/base",
          "model_name": "LayoutModel",
          "model_module_version": "1.2.0",
          "state": {
            "_model_module": "@jupyter-widgets/base",
            "_model_module_version": "1.2.0",
            "_model_name": "LayoutModel",
            "_view_count": null,
            "_view_module": "@jupyter-widgets/base",
            "_view_module_version": "1.2.0",
            "_view_name": "LayoutView",
            "align_content": null,
            "align_items": null,
            "align_self": null,
            "border": null,
            "bottom": null,
            "display": null,
            "flex": null,
            "flex_flow": null,
            "grid_area": null,
            "grid_auto_columns": null,
            "grid_auto_flow": null,
            "grid_auto_rows": null,
            "grid_column": null,
            "grid_gap": null,
            "grid_row": null,
            "grid_template_areas": null,
            "grid_template_columns": null,
            "grid_template_rows": null,
            "height": null,
            "justify_content": null,
            "justify_items": null,
            "left": null,
            "margin": null,
            "max_height": null,
            "max_width": null,
            "min_height": null,
            "min_width": null,
            "object_fit": null,
            "object_position": null,
            "order": null,
            "overflow": null,
            "overflow_x": null,
            "overflow_y": null,
            "padding": null,
            "right": null,
            "top": null,
            "visibility": null,
            "width": null
          }
        },
        "f7d68ae10fbb40a88a134ad6af521148": {
          "model_module": "@jupyter-widgets/controls",
          "model_name": "DescriptionStyleModel",
          "model_module_version": "1.5.0",
          "state": {
            "_model_module": "@jupyter-widgets/controls",
            "_model_module_version": "1.5.0",
            "_model_name": "DescriptionStyleModel",
            "_view_count": null,
            "_view_module": "@jupyter-widgets/base",
            "_view_module_version": "1.2.0",
            "_view_name": "StyleView",
            "description_width": ""
          }
        },
        "257649427930460180c3b41030e3aab6": {
          "model_module": "@jupyter-widgets/controls",
          "model_name": "HBoxModel",
          "model_module_version": "1.5.0",
          "state": {
            "_dom_classes": [],
            "_model_module": "@jupyter-widgets/controls",
            "_model_module_version": "1.5.0",
            "_model_name": "HBoxModel",
            "_view_count": null,
            "_view_module": "@jupyter-widgets/controls",
            "_view_module_version": "1.5.0",
            "_view_name": "HBoxView",
            "box_style": "",
            "children": [
              "IPY_MODEL_787351b1ffb9495192a8bea072a67b32",
              "IPY_MODEL_b1d3859ce334447e867b1b68e6c6d8b4",
              "IPY_MODEL_a4d1f8e7a637411ebc2133f502db9bfb"
            ],
            "layout": "IPY_MODEL_365fecd99e264363ae0f1ff768273de6"
          }
        },
        "787351b1ffb9495192a8bea072a67b32": {
          "model_module": "@jupyter-widgets/controls",
          "model_name": "HTMLModel",
          "model_module_version": "1.5.0",
          "state": {
            "_dom_classes": [],
            "_model_module": "@jupyter-widgets/controls",
            "_model_module_version": "1.5.0",
            "_model_name": "HTMLModel",
            "_view_count": null,
            "_view_module": "@jupyter-widgets/controls",
            "_view_module_version": "1.5.0",
            "_view_name": "HTMLView",
            "description": "",
            "description_tooltip": null,
            "layout": "IPY_MODEL_7763f73686794b4faa83dc2a4c890887",
            "placeholder": "​",
            "style": "IPY_MODEL_cfe15e4908e542efaa16c2a5a1ddd768",
            "value": "Downloading data: 100%"
          }
        },
        "b1d3859ce334447e867b1b68e6c6d8b4": {
          "model_module": "@jupyter-widgets/controls",
          "model_name": "FloatProgressModel",
          "model_module_version": "1.5.0",
          "state": {
            "_dom_classes": [],
            "_model_module": "@jupyter-widgets/controls",
            "_model_module_version": "1.5.0",
            "_model_name": "FloatProgressModel",
            "_view_count": null,
            "_view_module": "@jupyter-widgets/controls",
            "_view_module_version": "1.5.0",
            "_view_name": "ProgressView",
            "bar_style": "success",
            "description": "",
            "description_tooltip": null,
            "layout": "IPY_MODEL_3439ce0164734dbf9c9c5196d372c735",
            "max": 800,
            "min": 0,
            "orientation": "horizontal",
            "style": "IPY_MODEL_5fbe9d86f84445bbaa96052d8de7e107",
            "value": 800
          }
        },
        "a4d1f8e7a637411ebc2133f502db9bfb": {
          "model_module": "@jupyter-widgets/controls",
          "model_name": "HTMLModel",
          "model_module_version": "1.5.0",
          "state": {
            "_dom_classes": [],
            "_model_module": "@jupyter-widgets/controls",
            "_model_module_version": "1.5.0",
            "_model_name": "HTMLModel",
            "_view_count": null,
            "_view_module": "@jupyter-widgets/controls",
            "_view_module_version": "1.5.0",
            "_view_name": "HTMLView",
            "description": "",
            "description_tooltip": null,
            "layout": "IPY_MODEL_05cef24a7ef94ff5bfc230690decbee5",
            "placeholder": "​",
            "style": "IPY_MODEL_7ca721aab7824053ade15a2c664f9c72",
            "value": " 800/800 [00:00&lt;00:00, 3814.06files/s]"
          }
        },
        "365fecd99e264363ae0f1ff768273de6": {
          "model_module": "@jupyter-widgets/base",
          "model_name": "LayoutModel",
          "model_module_version": "1.2.0",
          "state": {
            "_model_module": "@jupyter-widgets/base",
            "_model_module_version": "1.2.0",
            "_model_name": "LayoutModel",
            "_view_count": null,
            "_view_module": "@jupyter-widgets/base",
            "_view_module_version": "1.2.0",
            "_view_name": "LayoutView",
            "align_content": null,
            "align_items": null,
            "align_self": null,
            "border": null,
            "bottom": null,
            "display": null,
            "flex": null,
            "flex_flow": null,
            "grid_area": null,
            "grid_auto_columns": null,
            "grid_auto_flow": null,
            "grid_auto_rows": null,
            "grid_column": null,
            "grid_gap": null,
            "grid_row": null,
            "grid_template_areas": null,
            "grid_template_columns": null,
            "grid_template_rows": null,
            "height": null,
            "justify_content": null,
            "justify_items": null,
            "left": null,
            "margin": null,
            "max_height": null,
            "max_width": null,
            "min_height": null,
            "min_width": null,
            "object_fit": null,
            "object_position": null,
            "order": null,
            "overflow": null,
            "overflow_x": null,
            "overflow_y": null,
            "padding": null,
            "right": null,
            "top": null,
            "visibility": null,
            "width": null
          }
        },
        "7763f73686794b4faa83dc2a4c890887": {
          "model_module": "@jupyter-widgets/base",
          "model_name": "LayoutModel",
          "model_module_version": "1.2.0",
          "state": {
            "_model_module": "@jupyter-widgets/base",
            "_model_module_version": "1.2.0",
            "_model_name": "LayoutModel",
            "_view_count": null,
            "_view_module": "@jupyter-widgets/base",
            "_view_module_version": "1.2.0",
            "_view_name": "LayoutView",
            "align_content": null,
            "align_items": null,
            "align_self": null,
            "border": null,
            "bottom": null,
            "display": null,
            "flex": null,
            "flex_flow": null,
            "grid_area": null,
            "grid_auto_columns": null,
            "grid_auto_flow": null,
            "grid_auto_rows": null,
            "grid_column": null,
            "grid_gap": null,
            "grid_row": null,
            "grid_template_areas": null,
            "grid_template_columns": null,
            "grid_template_rows": null,
            "height": null,
            "justify_content": null,
            "justify_items": null,
            "left": null,
            "margin": null,
            "max_height": null,
            "max_width": null,
            "min_height": null,
            "min_width": null,
            "object_fit": null,
            "object_position": null,
            "order": null,
            "overflow": null,
            "overflow_x": null,
            "overflow_y": null,
            "padding": null,
            "right": null,
            "top": null,
            "visibility": null,
            "width": null
          }
        },
        "cfe15e4908e542efaa16c2a5a1ddd768": {
          "model_module": "@jupyter-widgets/controls",
          "model_name": "DescriptionStyleModel",
          "model_module_version": "1.5.0",
          "state": {
            "_model_module": "@jupyter-widgets/controls",
            "_model_module_version": "1.5.0",
            "_model_name": "DescriptionStyleModel",
            "_view_count": null,
            "_view_module": "@jupyter-widgets/base",
            "_view_module_version": "1.2.0",
            "_view_name": "StyleView",
            "description_width": ""
          }
        },
        "3439ce0164734dbf9c9c5196d372c735": {
          "model_module": "@jupyter-widgets/base",
          "model_name": "LayoutModel",
          "model_module_version": "1.2.0",
          "state": {
            "_model_module": "@jupyter-widgets/base",
            "_model_module_version": "1.2.0",
            "_model_name": "LayoutModel",
            "_view_count": null,
            "_view_module": "@jupyter-widgets/base",
            "_view_module_version": "1.2.0",
            "_view_name": "LayoutView",
            "align_content": null,
            "align_items": null,
            "align_self": null,
            "border": null,
            "bottom": null,
            "display": null,
            "flex": null,
            "flex_flow": null,
            "grid_area": null,
            "grid_auto_columns": null,
            "grid_auto_flow": null,
            "grid_auto_rows": null,
            "grid_column": null,
            "grid_gap": null,
            "grid_row": null,
            "grid_template_areas": null,
            "grid_template_columns": null,
            "grid_template_rows": null,
            "height": null,
            "justify_content": null,
            "justify_items": null,
            "left": null,
            "margin": null,
            "max_height": null,
            "max_width": null,
            "min_height": null,
            "min_width": null,
            "object_fit": null,
            "object_position": null,
            "order": null,
            "overflow": null,
            "overflow_x": null,
            "overflow_y": null,
            "padding": null,
            "right": null,
            "top": null,
            "visibility": null,
            "width": null
          }
        },
        "5fbe9d86f84445bbaa96052d8de7e107": {
          "model_module": "@jupyter-widgets/controls",
          "model_name": "ProgressStyleModel",
          "model_module_version": "1.5.0",
          "state": {
            "_model_module": "@jupyter-widgets/controls",
            "_model_module_version": "1.5.0",
            "_model_name": "ProgressStyleModel",
            "_view_count": null,
            "_view_module": "@jupyter-widgets/base",
            "_view_module_version": "1.2.0",
            "_view_name": "StyleView",
            "bar_color": null,
            "description_width": ""
          }
        },
        "05cef24a7ef94ff5bfc230690decbee5": {
          "model_module": "@jupyter-widgets/base",
          "model_name": "LayoutModel",
          "model_module_version": "1.2.0",
          "state": {
            "_model_module": "@jupyter-widgets/base",
            "_model_module_version": "1.2.0",
            "_model_name": "LayoutModel",
            "_view_count": null,
            "_view_module": "@jupyter-widgets/base",
            "_view_module_version": "1.2.0",
            "_view_name": "LayoutView",
            "align_content": null,
            "align_items": null,
            "align_self": null,
            "border": null,
            "bottom": null,
            "display": null,
            "flex": null,
            "flex_flow": null,
            "grid_area": null,
            "grid_auto_columns": null,
            "grid_auto_flow": null,
            "grid_auto_rows": null,
            "grid_column": null,
            "grid_gap": null,
            "grid_row": null,
            "grid_template_areas": null,
            "grid_template_columns": null,
            "grid_template_rows": null,
            "height": null,
            "justify_content": null,
            "justify_items": null,
            "left": null,
            "margin": null,
            "max_height": null,
            "max_width": null,
            "min_height": null,
            "min_width": null,
            "object_fit": null,
            "object_position": null,
            "order": null,
            "overflow": null,
            "overflow_x": null,
            "overflow_y": null,
            "padding": null,
            "right": null,
            "top": null,
            "visibility": null,
            "width": null
          }
        },
        "7ca721aab7824053ade15a2c664f9c72": {
          "model_module": "@jupyter-widgets/controls",
          "model_name": "DescriptionStyleModel",
          "model_module_version": "1.5.0",
          "state": {
            "_model_module": "@jupyter-widgets/controls",
            "_model_module_version": "1.5.0",
            "_model_name": "DescriptionStyleModel",
            "_view_count": null,
            "_view_module": "@jupyter-widgets/base",
            "_view_module_version": "1.2.0",
            "_view_name": "StyleView",
            "description_width": ""
          }
        },
        "6110563c267d49eebfea1001519e0b68": {
          "model_module": "@jupyter-widgets/controls",
          "model_name": "HBoxModel",
          "model_module_version": "1.5.0",
          "state": {
            "_dom_classes": [],
            "_model_module": "@jupyter-widgets/controls",
            "_model_module_version": "1.5.0",
            "_model_name": "HBoxModel",
            "_view_count": null,
            "_view_module": "@jupyter-widgets/controls",
            "_view_module_version": "1.5.0",
            "_view_name": "HBoxView",
            "box_style": "",
            "children": [
              "IPY_MODEL_aca60fbc43fe46f4bf9b2db567687a4e",
              "IPY_MODEL_2f63e1e677d74202a42563fdeebe1d8a",
              "IPY_MODEL_9a476365720a45d08a1edd0acdbf1b65"
            ],
            "layout": "IPY_MODEL_5dd5c0f9b7f6401c858bd367a1977d86"
          }
        },
        "aca60fbc43fe46f4bf9b2db567687a4e": {
          "model_module": "@jupyter-widgets/controls",
          "model_name": "HTMLModel",
          "model_module_version": "1.5.0",
          "state": {
            "_dom_classes": [],
            "_model_module": "@jupyter-widgets/controls",
            "_model_module_version": "1.5.0",
            "_model_name": "HTMLModel",
            "_view_count": null,
            "_view_module": "@jupyter-widgets/controls",
            "_view_module_version": "1.5.0",
            "_view_name": "HTMLView",
            "description": "",
            "description_tooltip": null,
            "layout": "IPY_MODEL_8028c91bbbfb4928a5034e7ca2bcf8dc",
            "placeholder": "​",
            "style": "IPY_MODEL_d12b197ee75b4f6f980a6d96a82aae1c",
            "value": "Downloading data: 100%"
          }
        },
        "2f63e1e677d74202a42563fdeebe1d8a": {
          "model_module": "@jupyter-widgets/controls",
          "model_name": "FloatProgressModel",
          "model_module_version": "1.5.0",
          "state": {
            "_dom_classes": [],
            "_model_module": "@jupyter-widgets/controls",
            "_model_module_version": "1.5.0",
            "_model_name": "FloatProgressModel",
            "_view_count": null,
            "_view_module": "@jupyter-widgets/controls",
            "_view_module_version": "1.5.0",
            "_view_name": "ProgressView",
            "bar_style": "success",
            "description": "",
            "description_tooltip": null,
            "layout": "IPY_MODEL_e415d68b74e2420181592d3dd10af85a",
            "max": 992,
            "min": 0,
            "orientation": "horizontal",
            "style": "IPY_MODEL_82829a7ba9d04080a07ba06bdbca18ef",
            "value": 992
          }
        },
        "9a476365720a45d08a1edd0acdbf1b65": {
          "model_module": "@jupyter-widgets/controls",
          "model_name": "HTMLModel",
          "model_module_version": "1.5.0",
          "state": {
            "_dom_classes": [],
            "_model_module": "@jupyter-widgets/controls",
            "_model_module_version": "1.5.0",
            "_model_name": "HTMLModel",
            "_view_count": null,
            "_view_module": "@jupyter-widgets/controls",
            "_view_module_version": "1.5.0",
            "_view_name": "HTMLView",
            "description": "",
            "description_tooltip": null,
            "layout": "IPY_MODEL_811066c70d914318a06309bc5ba6191d",
            "placeholder": "​",
            "style": "IPY_MODEL_5764014295b8477f92787bcad3b13d12",
            "value": " 992/992 [00:00&lt;00:00, 3211.51files/s]"
          }
        },
        "5dd5c0f9b7f6401c858bd367a1977d86": {
          "model_module": "@jupyter-widgets/base",
          "model_name": "LayoutModel",
          "model_module_version": "1.2.0",
          "state": {
            "_model_module": "@jupyter-widgets/base",
            "_model_module_version": "1.2.0",
            "_model_name": "LayoutModel",
            "_view_count": null,
            "_view_module": "@jupyter-widgets/base",
            "_view_module_version": "1.2.0",
            "_view_name": "LayoutView",
            "align_content": null,
            "align_items": null,
            "align_self": null,
            "border": null,
            "bottom": null,
            "display": null,
            "flex": null,
            "flex_flow": null,
            "grid_area": null,
            "grid_auto_columns": null,
            "grid_auto_flow": null,
            "grid_auto_rows": null,
            "grid_column": null,
            "grid_gap": null,
            "grid_row": null,
            "grid_template_areas": null,
            "grid_template_columns": null,
            "grid_template_rows": null,
            "height": null,
            "justify_content": null,
            "justify_items": null,
            "left": null,
            "margin": null,
            "max_height": null,
            "max_width": null,
            "min_height": null,
            "min_width": null,
            "object_fit": null,
            "object_position": null,
            "order": null,
            "overflow": null,
            "overflow_x": null,
            "overflow_y": null,
            "padding": null,
            "right": null,
            "top": null,
            "visibility": null,
            "width": null
          }
        },
        "8028c91bbbfb4928a5034e7ca2bcf8dc": {
          "model_module": "@jupyter-widgets/base",
          "model_name": "LayoutModel",
          "model_module_version": "1.2.0",
          "state": {
            "_model_module": "@jupyter-widgets/base",
            "_model_module_version": "1.2.0",
            "_model_name": "LayoutModel",
            "_view_count": null,
            "_view_module": "@jupyter-widgets/base",
            "_view_module_version": "1.2.0",
            "_view_name": "LayoutView",
            "align_content": null,
            "align_items": null,
            "align_self": null,
            "border": null,
            "bottom": null,
            "display": null,
            "flex": null,
            "flex_flow": null,
            "grid_area": null,
            "grid_auto_columns": null,
            "grid_auto_flow": null,
            "grid_auto_rows": null,
            "grid_column": null,
            "grid_gap": null,
            "grid_row": null,
            "grid_template_areas": null,
            "grid_template_columns": null,
            "grid_template_rows": null,
            "height": null,
            "justify_content": null,
            "justify_items": null,
            "left": null,
            "margin": null,
            "max_height": null,
            "max_width": null,
            "min_height": null,
            "min_width": null,
            "object_fit": null,
            "object_position": null,
            "order": null,
            "overflow": null,
            "overflow_x": null,
            "overflow_y": null,
            "padding": null,
            "right": null,
            "top": null,
            "visibility": null,
            "width": null
          }
        },
        "d12b197ee75b4f6f980a6d96a82aae1c": {
          "model_module": "@jupyter-widgets/controls",
          "model_name": "DescriptionStyleModel",
          "model_module_version": "1.5.0",
          "state": {
            "_model_module": "@jupyter-widgets/controls",
            "_model_module_version": "1.5.0",
            "_model_name": "DescriptionStyleModel",
            "_view_count": null,
            "_view_module": "@jupyter-widgets/base",
            "_view_module_version": "1.2.0",
            "_view_name": "StyleView",
            "description_width": ""
          }
        },
        "e415d68b74e2420181592d3dd10af85a": {
          "model_module": "@jupyter-widgets/base",
          "model_name": "LayoutModel",
          "model_module_version": "1.2.0",
          "state": {
            "_model_module": "@jupyter-widgets/base",
            "_model_module_version": "1.2.0",
            "_model_name": "LayoutModel",
            "_view_count": null,
            "_view_module": "@jupyter-widgets/base",
            "_view_module_version": "1.2.0",
            "_view_name": "LayoutView",
            "align_content": null,
            "align_items": null,
            "align_self": null,
            "border": null,
            "bottom": null,
            "display": null,
            "flex": null,
            "flex_flow": null,
            "grid_area": null,
            "grid_auto_columns": null,
            "grid_auto_flow": null,
            "grid_auto_rows": null,
            "grid_column": null,
            "grid_gap": null,
            "grid_row": null,
            "grid_template_areas": null,
            "grid_template_columns": null,
            "grid_template_rows": null,
            "height": null,
            "justify_content": null,
            "justify_items": null,
            "left": null,
            "margin": null,
            "max_height": null,
            "max_width": null,
            "min_height": null,
            "min_width": null,
            "object_fit": null,
            "object_position": null,
            "order": null,
            "overflow": null,
            "overflow_x": null,
            "overflow_y": null,
            "padding": null,
            "right": null,
            "top": null,
            "visibility": null,
            "width": null
          }
        },
        "82829a7ba9d04080a07ba06bdbca18ef": {
          "model_module": "@jupyter-widgets/controls",
          "model_name": "ProgressStyleModel",
          "model_module_version": "1.5.0",
          "state": {
            "_model_module": "@jupyter-widgets/controls",
            "_model_module_version": "1.5.0",
            "_model_name": "ProgressStyleModel",
            "_view_count": null,
            "_view_module": "@jupyter-widgets/base",
            "_view_module_version": "1.2.0",
            "_view_name": "StyleView",
            "bar_color": null,
            "description_width": ""
          }
        },
        "811066c70d914318a06309bc5ba6191d": {
          "model_module": "@jupyter-widgets/base",
          "model_name": "LayoutModel",
          "model_module_version": "1.2.0",
          "state": {
            "_model_module": "@jupyter-widgets/base",
            "_model_module_version": "1.2.0",
            "_model_name": "LayoutModel",
            "_view_count": null,
            "_view_module": "@jupyter-widgets/base",
            "_view_module_version": "1.2.0",
            "_view_name": "LayoutView",
            "align_content": null,
            "align_items": null,
            "align_self": null,
            "border": null,
            "bottom": null,
            "display": null,
            "flex": null,
            "flex_flow": null,
            "grid_area": null,
            "grid_auto_columns": null,
            "grid_auto_flow": null,
            "grid_auto_rows": null,
            "grid_column": null,
            "grid_gap": null,
            "grid_row": null,
            "grid_template_areas": null,
            "grid_template_columns": null,
            "grid_template_rows": null,
            "height": null,
            "justify_content": null,
            "justify_items": null,
            "left": null,
            "margin": null,
            "max_height": null,
            "max_width": null,
            "min_height": null,
            "min_width": null,
            "object_fit": null,
            "object_position": null,
            "order": null,
            "overflow": null,
            "overflow_x": null,
            "overflow_y": null,
            "padding": null,
            "right": null,
            "top": null,
            "visibility": null,
            "width": null
          }
        },
        "5764014295b8477f92787bcad3b13d12": {
          "model_module": "@jupyter-widgets/controls",
          "model_name": "DescriptionStyleModel",
          "model_module_version": "1.5.0",
          "state": {
            "_model_module": "@jupyter-widgets/controls",
            "_model_module_version": "1.5.0",
            "_model_name": "DescriptionStyleModel",
            "_view_count": null,
            "_view_module": "@jupyter-widgets/base",
            "_view_module_version": "1.2.0",
            "_view_name": "StyleView",
            "description_width": ""
          }
        },
        "1c004d84db9b42938a49dd2b3f46f665": {
          "model_module": "@jupyter-widgets/controls",
          "model_name": "HBoxModel",
          "model_module_version": "1.5.0",
          "state": {
            "_dom_classes": [],
            "_model_module": "@jupyter-widgets/controls",
            "_model_module_version": "1.5.0",
            "_model_name": "HBoxModel",
            "_view_count": null,
            "_view_module": "@jupyter-widgets/controls",
            "_view_module_version": "1.5.0",
            "_view_name": "HBoxView",
            "box_style": "",
            "children": [
              "IPY_MODEL_8991cdbc6f1c43fb99e37bd5b2654bfa",
              "IPY_MODEL_f9b150bdd79144f2a099c3c189d1e2b8",
              "IPY_MODEL_9aafbdb4e1a0485cac40092c2fabb0d2"
            ],
            "layout": "IPY_MODEL_cec85bcf842c4ca6905188023c5f9f77"
          }
        },
        "8991cdbc6f1c43fb99e37bd5b2654bfa": {
          "model_module": "@jupyter-widgets/controls",
          "model_name": "HTMLModel",
          "model_module_version": "1.5.0",
          "state": {
            "_dom_classes": [],
            "_model_module": "@jupyter-widgets/controls",
            "_model_module_version": "1.5.0",
            "_model_name": "HTMLModel",
            "_view_count": null,
            "_view_module": "@jupyter-widgets/controls",
            "_view_module_version": "1.5.0",
            "_view_name": "HTMLView",
            "description": "",
            "description_tooltip": null,
            "layout": "IPY_MODEL_8a815f1a829743e193973122d1790947",
            "placeholder": "​",
            "style": "IPY_MODEL_236d922a9c3149d2bb1c3dde3bf0a317",
            "value": "Generating train split: "
          }
        },
        "f9b150bdd79144f2a099c3c189d1e2b8": {
          "model_module": "@jupyter-widgets/controls",
          "model_name": "FloatProgressModel",
          "model_module_version": "1.5.0",
          "state": {
            "_dom_classes": [],
            "_model_module": "@jupyter-widgets/controls",
            "_model_module_version": "1.5.0",
            "_model_name": "FloatProgressModel",
            "_view_count": null,
            "_view_module": "@jupyter-widgets/controls",
            "_view_module_version": "1.5.0",
            "_view_name": "ProgressView",
            "bar_style": "success",
            "description": "",
            "description_tooltip": null,
            "layout": "IPY_MODEL_55488d0aab7241b3bcbb6bb13d60a823",
            "max": 1,
            "min": 0,
            "orientation": "horizontal",
            "style": "IPY_MODEL_9ee03451a7fb44dea5720f7d12a3f372",
            "value": 1
          }
        },
        "9aafbdb4e1a0485cac40092c2fabb0d2": {
          "model_module": "@jupyter-widgets/controls",
          "model_name": "HTMLModel",
          "model_module_version": "1.5.0",
          "state": {
            "_dom_classes": [],
            "_model_module": "@jupyter-widgets/controls",
            "_model_module_version": "1.5.0",
            "_model_name": "HTMLModel",
            "_view_count": null,
            "_view_module": "@jupyter-widgets/controls",
            "_view_module_version": "1.5.0",
            "_view_name": "HTMLView",
            "description": "",
            "description_tooltip": null,
            "layout": "IPY_MODEL_8d54c68a9b8d4d92a532a08cfa217d10",
            "placeholder": "​",
            "style": "IPY_MODEL_a3a436d8deae4d72acbbf07b51566c96",
            "value": " 9994/0 [00:00&lt;00:00, 10209.37 examples/s]"
          }
        },
        "cec85bcf842c4ca6905188023c5f9f77": {
          "model_module": "@jupyter-widgets/base",
          "model_name": "LayoutModel",
          "model_module_version": "1.2.0",
          "state": {
            "_model_module": "@jupyter-widgets/base",
            "_model_module_version": "1.2.0",
            "_model_name": "LayoutModel",
            "_view_count": null,
            "_view_module": "@jupyter-widgets/base",
            "_view_module_version": "1.2.0",
            "_view_name": "LayoutView",
            "align_content": null,
            "align_items": null,
            "align_self": null,
            "border": null,
            "bottom": null,
            "display": null,
            "flex": null,
            "flex_flow": null,
            "grid_area": null,
            "grid_auto_columns": null,
            "grid_auto_flow": null,
            "grid_auto_rows": null,
            "grid_column": null,
            "grid_gap": null,
            "grid_row": null,
            "grid_template_areas": null,
            "grid_template_columns": null,
            "grid_template_rows": null,
            "height": null,
            "justify_content": null,
            "justify_items": null,
            "left": null,
            "margin": null,
            "max_height": null,
            "max_width": null,
            "min_height": null,
            "min_width": null,
            "object_fit": null,
            "object_position": null,
            "order": null,
            "overflow": null,
            "overflow_x": null,
            "overflow_y": null,
            "padding": null,
            "right": null,
            "top": null,
            "visibility": null,
            "width": null
          }
        },
        "8a815f1a829743e193973122d1790947": {
          "model_module": "@jupyter-widgets/base",
          "model_name": "LayoutModel",
          "model_module_version": "1.2.0",
          "state": {
            "_model_module": "@jupyter-widgets/base",
            "_model_module_version": "1.2.0",
            "_model_name": "LayoutModel",
            "_view_count": null,
            "_view_module": "@jupyter-widgets/base",
            "_view_module_version": "1.2.0",
            "_view_name": "LayoutView",
            "align_content": null,
            "align_items": null,
            "align_self": null,
            "border": null,
            "bottom": null,
            "display": null,
            "flex": null,
            "flex_flow": null,
            "grid_area": null,
            "grid_auto_columns": null,
            "grid_auto_flow": null,
            "grid_auto_rows": null,
            "grid_column": null,
            "grid_gap": null,
            "grid_row": null,
            "grid_template_areas": null,
            "grid_template_columns": null,
            "grid_template_rows": null,
            "height": null,
            "justify_content": null,
            "justify_items": null,
            "left": null,
            "margin": null,
            "max_height": null,
            "max_width": null,
            "min_height": null,
            "min_width": null,
            "object_fit": null,
            "object_position": null,
            "order": null,
            "overflow": null,
            "overflow_x": null,
            "overflow_y": null,
            "padding": null,
            "right": null,
            "top": null,
            "visibility": null,
            "width": null
          }
        },
        "236d922a9c3149d2bb1c3dde3bf0a317": {
          "model_module": "@jupyter-widgets/controls",
          "model_name": "DescriptionStyleModel",
          "model_module_version": "1.5.0",
          "state": {
            "_model_module": "@jupyter-widgets/controls",
            "_model_module_version": "1.5.0",
            "_model_name": "DescriptionStyleModel",
            "_view_count": null,
            "_view_module": "@jupyter-widgets/base",
            "_view_module_version": "1.2.0",
            "_view_name": "StyleView",
            "description_width": ""
          }
        },
        "55488d0aab7241b3bcbb6bb13d60a823": {
          "model_module": "@jupyter-widgets/base",
          "model_name": "LayoutModel",
          "model_module_version": "1.2.0",
          "state": {
            "_model_module": "@jupyter-widgets/base",
            "_model_module_version": "1.2.0",
            "_model_name": "LayoutModel",
            "_view_count": null,
            "_view_module": "@jupyter-widgets/base",
            "_view_module_version": "1.2.0",
            "_view_name": "LayoutView",
            "align_content": null,
            "align_items": null,
            "align_self": null,
            "border": null,
            "bottom": null,
            "display": null,
            "flex": null,
            "flex_flow": null,
            "grid_area": null,
            "grid_auto_columns": null,
            "grid_auto_flow": null,
            "grid_auto_rows": null,
            "grid_column": null,
            "grid_gap": null,
            "grid_row": null,
            "grid_template_areas": null,
            "grid_template_columns": null,
            "grid_template_rows": null,
            "height": null,
            "justify_content": null,
            "justify_items": null,
            "left": null,
            "margin": null,
            "max_height": null,
            "max_width": null,
            "min_height": null,
            "min_width": null,
            "object_fit": null,
            "object_position": null,
            "order": null,
            "overflow": null,
            "overflow_x": null,
            "overflow_y": null,
            "padding": null,
            "right": null,
            "top": null,
            "visibility": null,
            "width": "20px"
          }
        },
        "9ee03451a7fb44dea5720f7d12a3f372": {
          "model_module": "@jupyter-widgets/controls",
          "model_name": "ProgressStyleModel",
          "model_module_version": "1.5.0",
          "state": {
            "_model_module": "@jupyter-widgets/controls",
            "_model_module_version": "1.5.0",
            "_model_name": "ProgressStyleModel",
            "_view_count": null,
            "_view_module": "@jupyter-widgets/base",
            "_view_module_version": "1.2.0",
            "_view_name": "StyleView",
            "bar_color": null,
            "description_width": ""
          }
        },
        "8d54c68a9b8d4d92a532a08cfa217d10": {
          "model_module": "@jupyter-widgets/base",
          "model_name": "LayoutModel",
          "model_module_version": "1.2.0",
          "state": {
            "_model_module": "@jupyter-widgets/base",
            "_model_module_version": "1.2.0",
            "_model_name": "LayoutModel",
            "_view_count": null,
            "_view_module": "@jupyter-widgets/base",
            "_view_module_version": "1.2.0",
            "_view_name": "LayoutView",
            "align_content": null,
            "align_items": null,
            "align_self": null,
            "border": null,
            "bottom": null,
            "display": null,
            "flex": null,
            "flex_flow": null,
            "grid_area": null,
            "grid_auto_columns": null,
            "grid_auto_flow": null,
            "grid_auto_rows": null,
            "grid_column": null,
            "grid_gap": null,
            "grid_row": null,
            "grid_template_areas": null,
            "grid_template_columns": null,
            "grid_template_rows": null,
            "height": null,
            "justify_content": null,
            "justify_items": null,
            "left": null,
            "margin": null,
            "max_height": null,
            "max_width": null,
            "min_height": null,
            "min_width": null,
            "object_fit": null,
            "object_position": null,
            "order": null,
            "overflow": null,
            "overflow_x": null,
            "overflow_y": null,
            "padding": null,
            "right": null,
            "top": null,
            "visibility": null,
            "width": null
          }
        },
        "a3a436d8deae4d72acbbf07b51566c96": {
          "model_module": "@jupyter-widgets/controls",
          "model_name": "DescriptionStyleModel",
          "model_module_version": "1.5.0",
          "state": {
            "_model_module": "@jupyter-widgets/controls",
            "_model_module_version": "1.5.0",
            "_model_name": "DescriptionStyleModel",
            "_view_count": null,
            "_view_module": "@jupyter-widgets/base",
            "_view_module_version": "1.2.0",
            "_view_name": "StyleView",
            "description_width": ""
          }
        },
        "81d09241ec194e84b13ad594d928d448": {
          "model_module": "@jupyter-widgets/controls",
          "model_name": "HBoxModel",
          "model_module_version": "1.5.0",
          "state": {
            "_dom_classes": [],
            "_model_module": "@jupyter-widgets/controls",
            "_model_module_version": "1.5.0",
            "_model_name": "HBoxModel",
            "_view_count": null,
            "_view_module": "@jupyter-widgets/controls",
            "_view_module_version": "1.5.0",
            "_view_name": "HBoxView",
            "box_style": "",
            "children": [
              "IPY_MODEL_79b1de420ef64e5493879e0dfa5e886c",
              "IPY_MODEL_2202875490fd4ad59fd110074f38562e",
              "IPY_MODEL_8776c06208634015909702c0aa9a2096"
            ],
            "layout": "IPY_MODEL_bae5e9b06e844a2288bb16a1322c53ea"
          }
        },
        "79b1de420ef64e5493879e0dfa5e886c": {
          "model_module": "@jupyter-widgets/controls",
          "model_name": "HTMLModel",
          "model_module_version": "1.5.0",
          "state": {
            "_dom_classes": [],
            "_model_module": "@jupyter-widgets/controls",
            "_model_module_version": "1.5.0",
            "_model_name": "HTMLModel",
            "_view_count": null,
            "_view_module": "@jupyter-widgets/controls",
            "_view_module_version": "1.5.0",
            "_view_name": "HTMLView",
            "description": "",
            "description_tooltip": null,
            "layout": "IPY_MODEL_15ec1033fc1e49c68549cba430a0eaf7",
            "placeholder": "​",
            "style": "IPY_MODEL_f0ea70c6c29340b9827681e0d2f0f81d",
            "value": "Generating validation split: "
          }
        },
        "2202875490fd4ad59fd110074f38562e": {
          "model_module": "@jupyter-widgets/controls",
          "model_name": "FloatProgressModel",
          "model_module_version": "1.5.0",
          "state": {
            "_dom_classes": [],
            "_model_module": "@jupyter-widgets/controls",
            "_model_module_version": "1.5.0",
            "_model_name": "FloatProgressModel",
            "_view_count": null,
            "_view_module": "@jupyter-widgets/controls",
            "_view_module_version": "1.5.0",
            "_view_name": "ProgressView",
            "bar_style": "success",
            "description": "",
            "description_tooltip": null,
            "layout": "IPY_MODEL_ca4ff3f2e6fc43d1bf404b0ba5e8748c",
            "max": 1,
            "min": 0,
            "orientation": "horizontal",
            "style": "IPY_MODEL_52492d76e190485690854fb9ad8f3bcf",
            "value": 1
          }
        },
        "8776c06208634015909702c0aa9a2096": {
          "model_module": "@jupyter-widgets/controls",
          "model_name": "HTMLModel",
          "model_module_version": "1.5.0",
          "state": {
            "_dom_classes": [],
            "_model_module": "@jupyter-widgets/controls",
            "_model_module_version": "1.5.0",
            "_model_name": "HTMLModel",
            "_view_count": null,
            "_view_module": "@jupyter-widgets/controls",
            "_view_module_version": "1.5.0",
            "_view_name": "HTMLView",
            "description": "",
            "description_tooltip": null,
            "layout": "IPY_MODEL_9fd2436d92df484c8ce229fdb052ce85",
            "placeholder": "​",
            "style": "IPY_MODEL_af73262f78354298bf5d6b4f5a868ca7",
            "value": " 800/0 [00:00&lt;00:00, 5627.07 examples/s]"
          }
        },
        "bae5e9b06e844a2288bb16a1322c53ea": {
          "model_module": "@jupyter-widgets/base",
          "model_name": "LayoutModel",
          "model_module_version": "1.2.0",
          "state": {
            "_model_module": "@jupyter-widgets/base",
            "_model_module_version": "1.2.0",
            "_model_name": "LayoutModel",
            "_view_count": null,
            "_view_module": "@jupyter-widgets/base",
            "_view_module_version": "1.2.0",
            "_view_name": "LayoutView",
            "align_content": null,
            "align_items": null,
            "align_self": null,
            "border": null,
            "bottom": null,
            "display": null,
            "flex": null,
            "flex_flow": null,
            "grid_area": null,
            "grid_auto_columns": null,
            "grid_auto_flow": null,
            "grid_auto_rows": null,
            "grid_column": null,
            "grid_gap": null,
            "grid_row": null,
            "grid_template_areas": null,
            "grid_template_columns": null,
            "grid_template_rows": null,
            "height": null,
            "justify_content": null,
            "justify_items": null,
            "left": null,
            "margin": null,
            "max_height": null,
            "max_width": null,
            "min_height": null,
            "min_width": null,
            "object_fit": null,
            "object_position": null,
            "order": null,
            "overflow": null,
            "overflow_x": null,
            "overflow_y": null,
            "padding": null,
            "right": null,
            "top": null,
            "visibility": null,
            "width": null
          }
        },
        "15ec1033fc1e49c68549cba430a0eaf7": {
          "model_module": "@jupyter-widgets/base",
          "model_name": "LayoutModel",
          "model_module_version": "1.2.0",
          "state": {
            "_model_module": "@jupyter-widgets/base",
            "_model_module_version": "1.2.0",
            "_model_name": "LayoutModel",
            "_view_count": null,
            "_view_module": "@jupyter-widgets/base",
            "_view_module_version": "1.2.0",
            "_view_name": "LayoutView",
            "align_content": null,
            "align_items": null,
            "align_self": null,
            "border": null,
            "bottom": null,
            "display": null,
            "flex": null,
            "flex_flow": null,
            "grid_area": null,
            "grid_auto_columns": null,
            "grid_auto_flow": null,
            "grid_auto_rows": null,
            "grid_column": null,
            "grid_gap": null,
            "grid_row": null,
            "grid_template_areas": null,
            "grid_template_columns": null,
            "grid_template_rows": null,
            "height": null,
            "justify_content": null,
            "justify_items": null,
            "left": null,
            "margin": null,
            "max_height": null,
            "max_width": null,
            "min_height": null,
            "min_width": null,
            "object_fit": null,
            "object_position": null,
            "order": null,
            "overflow": null,
            "overflow_x": null,
            "overflow_y": null,
            "padding": null,
            "right": null,
            "top": null,
            "visibility": null,
            "width": null
          }
        },
        "f0ea70c6c29340b9827681e0d2f0f81d": {
          "model_module": "@jupyter-widgets/controls",
          "model_name": "DescriptionStyleModel",
          "model_module_version": "1.5.0",
          "state": {
            "_model_module": "@jupyter-widgets/controls",
            "_model_module_version": "1.5.0",
            "_model_name": "DescriptionStyleModel",
            "_view_count": null,
            "_view_module": "@jupyter-widgets/base",
            "_view_module_version": "1.2.0",
            "_view_name": "StyleView",
            "description_width": ""
          }
        },
        "ca4ff3f2e6fc43d1bf404b0ba5e8748c": {
          "model_module": "@jupyter-widgets/base",
          "model_name": "LayoutModel",
          "model_module_version": "1.2.0",
          "state": {
            "_model_module": "@jupyter-widgets/base",
            "_model_module_version": "1.2.0",
            "_model_name": "LayoutModel",
            "_view_count": null,
            "_view_module": "@jupyter-widgets/base",
            "_view_module_version": "1.2.0",
            "_view_name": "LayoutView",
            "align_content": null,
            "align_items": null,
            "align_self": null,
            "border": null,
            "bottom": null,
            "display": null,
            "flex": null,
            "flex_flow": null,
            "grid_area": null,
            "grid_auto_columns": null,
            "grid_auto_flow": null,
            "grid_auto_rows": null,
            "grid_column": null,
            "grid_gap": null,
            "grid_row": null,
            "grid_template_areas": null,
            "grid_template_columns": null,
            "grid_template_rows": null,
            "height": null,
            "justify_content": null,
            "justify_items": null,
            "left": null,
            "margin": null,
            "max_height": null,
            "max_width": null,
            "min_height": null,
            "min_width": null,
            "object_fit": null,
            "object_position": null,
            "order": null,
            "overflow": null,
            "overflow_x": null,
            "overflow_y": null,
            "padding": null,
            "right": null,
            "top": null,
            "visibility": null,
            "width": "20px"
          }
        },
        "52492d76e190485690854fb9ad8f3bcf": {
          "model_module": "@jupyter-widgets/controls",
          "model_name": "ProgressStyleModel",
          "model_module_version": "1.5.0",
          "state": {
            "_model_module": "@jupyter-widgets/controls",
            "_model_module_version": "1.5.0",
            "_model_name": "ProgressStyleModel",
            "_view_count": null,
            "_view_module": "@jupyter-widgets/base",
            "_view_module_version": "1.2.0",
            "_view_name": "StyleView",
            "bar_color": null,
            "description_width": ""
          }
        },
        "9fd2436d92df484c8ce229fdb052ce85": {
          "model_module": "@jupyter-widgets/base",
          "model_name": "LayoutModel",
          "model_module_version": "1.2.0",
          "state": {
            "_model_module": "@jupyter-widgets/base",
            "_model_module_version": "1.2.0",
            "_model_name": "LayoutModel",
            "_view_count": null,
            "_view_module": "@jupyter-widgets/base",
            "_view_module_version": "1.2.0",
            "_view_name": "LayoutView",
            "align_content": null,
            "align_items": null,
            "align_self": null,
            "border": null,
            "bottom": null,
            "display": null,
            "flex": null,
            "flex_flow": null,
            "grid_area": null,
            "grid_auto_columns": null,
            "grid_auto_flow": null,
            "grid_auto_rows": null,
            "grid_column": null,
            "grid_gap": null,
            "grid_row": null,
            "grid_template_areas": null,
            "grid_template_columns": null,
            "grid_template_rows": null,
            "height": null,
            "justify_content": null,
            "justify_items": null,
            "left": null,
            "margin": null,
            "max_height": null,
            "max_width": null,
            "min_height": null,
            "min_width": null,
            "object_fit": null,
            "object_position": null,
            "order": null,
            "overflow": null,
            "overflow_x": null,
            "overflow_y": null,
            "padding": null,
            "right": null,
            "top": null,
            "visibility": null,
            "width": null
          }
        },
        "af73262f78354298bf5d6b4f5a868ca7": {
          "model_module": "@jupyter-widgets/controls",
          "model_name": "DescriptionStyleModel",
          "model_module_version": "1.5.0",
          "state": {
            "_model_module": "@jupyter-widgets/controls",
            "_model_module_version": "1.5.0",
            "_model_name": "DescriptionStyleModel",
            "_view_count": null,
            "_view_module": "@jupyter-widgets/base",
            "_view_module_version": "1.2.0",
            "_view_name": "StyleView",
            "description_width": ""
          }
        },
        "b273eea79bfc4d3484340b55b4de71d0": {
          "model_module": "@jupyter-widgets/controls",
          "model_name": "HBoxModel",
          "model_module_version": "1.5.0",
          "state": {
            "_dom_classes": [],
            "_model_module": "@jupyter-widgets/controls",
            "_model_module_version": "1.5.0",
            "_model_name": "HBoxModel",
            "_view_count": null,
            "_view_module": "@jupyter-widgets/controls",
            "_view_module_version": "1.5.0",
            "_view_name": "HBoxView",
            "box_style": "",
            "children": [
              "IPY_MODEL_91e55a416b594e9f8c4ded8f930e77cd",
              "IPY_MODEL_4a05c8eb40e343e9badb7755c62f3626",
              "IPY_MODEL_84bd2fc2ca8e4517b212c9845d149f54"
            ],
            "layout": "IPY_MODEL_aa529f2b98004266bcd117fd3692c090"
          }
        },
        "91e55a416b594e9f8c4ded8f930e77cd": {
          "model_module": "@jupyter-widgets/controls",
          "model_name": "HTMLModel",
          "model_module_version": "1.5.0",
          "state": {
            "_dom_classes": [],
            "_model_module": "@jupyter-widgets/controls",
            "_model_module_version": "1.5.0",
            "_model_name": "HTMLModel",
            "_view_count": null,
            "_view_module": "@jupyter-widgets/controls",
            "_view_module_version": "1.5.0",
            "_view_name": "HTMLView",
            "description": "",
            "description_tooltip": null,
            "layout": "IPY_MODEL_31bee2966a0944b8ab8fac89cd7cb015",
            "placeholder": "​",
            "style": "IPY_MODEL_78084b8da497463aa2b8c7b45b90f38b",
            "value": "Generating test split: "
          }
        },
        "4a05c8eb40e343e9badb7755c62f3626": {
          "model_module": "@jupyter-widgets/controls",
          "model_name": "FloatProgressModel",
          "model_module_version": "1.5.0",
          "state": {
            "_dom_classes": [],
            "_model_module": "@jupyter-widgets/controls",
            "_model_module_version": "1.5.0",
            "_model_name": "FloatProgressModel",
            "_view_count": null,
            "_view_module": "@jupyter-widgets/controls",
            "_view_module_version": "1.5.0",
            "_view_name": "ProgressView",
            "bar_style": "success",
            "description": "",
            "description_tooltip": null,
            "layout": "IPY_MODEL_62acc722b70f45fc92a41bd6f1ed499c",
            "max": 1,
            "min": 0,
            "orientation": "horizontal",
            "style": "IPY_MODEL_cf0a3da834764f1f96395d18d8e28fb5",
            "value": 1
          }
        },
        "84bd2fc2ca8e4517b212c9845d149f54": {
          "model_module": "@jupyter-widgets/controls",
          "model_name": "HTMLModel",
          "model_module_version": "1.5.0",
          "state": {
            "_dom_classes": [],
            "_model_module": "@jupyter-widgets/controls",
            "_model_module_version": "1.5.0",
            "_model_name": "HTMLModel",
            "_view_count": null,
            "_view_module": "@jupyter-widgets/controls",
            "_view_module_version": "1.5.0",
            "_view_name": "HTMLView",
            "description": "",
            "description_tooltip": null,
            "layout": "IPY_MODEL_f9cc1cc3d7004b80a5a2955aced606ac",
            "placeholder": "​",
            "style": "IPY_MODEL_62e2f070a0cc4fe5a0acd1b1e3cda7d3",
            "value": " 992/0 [00:00&lt;00:00, 5463.84 examples/s]"
          }
        },
        "aa529f2b98004266bcd117fd3692c090": {
          "model_module": "@jupyter-widgets/base",
          "model_name": "LayoutModel",
          "model_module_version": "1.2.0",
          "state": {
            "_model_module": "@jupyter-widgets/base",
            "_model_module_version": "1.2.0",
            "_model_name": "LayoutModel",
            "_view_count": null,
            "_view_module": "@jupyter-widgets/base",
            "_view_module_version": "1.2.0",
            "_view_name": "LayoutView",
            "align_content": null,
            "align_items": null,
            "align_self": null,
            "border": null,
            "bottom": null,
            "display": null,
            "flex": null,
            "flex_flow": null,
            "grid_area": null,
            "grid_auto_columns": null,
            "grid_auto_flow": null,
            "grid_auto_rows": null,
            "grid_column": null,
            "grid_gap": null,
            "grid_row": null,
            "grid_template_areas": null,
            "grid_template_columns": null,
            "grid_template_rows": null,
            "height": null,
            "justify_content": null,
            "justify_items": null,
            "left": null,
            "margin": null,
            "max_height": null,
            "max_width": null,
            "min_height": null,
            "min_width": null,
            "object_fit": null,
            "object_position": null,
            "order": null,
            "overflow": null,
            "overflow_x": null,
            "overflow_y": null,
            "padding": null,
            "right": null,
            "top": null,
            "visibility": null,
            "width": null
          }
        },
        "31bee2966a0944b8ab8fac89cd7cb015": {
          "model_module": "@jupyter-widgets/base",
          "model_name": "LayoutModel",
          "model_module_version": "1.2.0",
          "state": {
            "_model_module": "@jupyter-widgets/base",
            "_model_module_version": "1.2.0",
            "_model_name": "LayoutModel",
            "_view_count": null,
            "_view_module": "@jupyter-widgets/base",
            "_view_module_version": "1.2.0",
            "_view_name": "LayoutView",
            "align_content": null,
            "align_items": null,
            "align_self": null,
            "border": null,
            "bottom": null,
            "display": null,
            "flex": null,
            "flex_flow": null,
            "grid_area": null,
            "grid_auto_columns": null,
            "grid_auto_flow": null,
            "grid_auto_rows": null,
            "grid_column": null,
            "grid_gap": null,
            "grid_row": null,
            "grid_template_areas": null,
            "grid_template_columns": null,
            "grid_template_rows": null,
            "height": null,
            "justify_content": null,
            "justify_items": null,
            "left": null,
            "margin": null,
            "max_height": null,
            "max_width": null,
            "min_height": null,
            "min_width": null,
            "object_fit": null,
            "object_position": null,
            "order": null,
            "overflow": null,
            "overflow_x": null,
            "overflow_y": null,
            "padding": null,
            "right": null,
            "top": null,
            "visibility": null,
            "width": null
          }
        },
        "78084b8da497463aa2b8c7b45b90f38b": {
          "model_module": "@jupyter-widgets/controls",
          "model_name": "DescriptionStyleModel",
          "model_module_version": "1.5.0",
          "state": {
            "_model_module": "@jupyter-widgets/controls",
            "_model_module_version": "1.5.0",
            "_model_name": "DescriptionStyleModel",
            "_view_count": null,
            "_view_module": "@jupyter-widgets/base",
            "_view_module_version": "1.2.0",
            "_view_name": "StyleView",
            "description_width": ""
          }
        },
        "62acc722b70f45fc92a41bd6f1ed499c": {
          "model_module": "@jupyter-widgets/base",
          "model_name": "LayoutModel",
          "model_module_version": "1.2.0",
          "state": {
            "_model_module": "@jupyter-widgets/base",
            "_model_module_version": "1.2.0",
            "_model_name": "LayoutModel",
            "_view_count": null,
            "_view_module": "@jupyter-widgets/base",
            "_view_module_version": "1.2.0",
            "_view_name": "LayoutView",
            "align_content": null,
            "align_items": null,
            "align_self": null,
            "border": null,
            "bottom": null,
            "display": null,
            "flex": null,
            "flex_flow": null,
            "grid_area": null,
            "grid_auto_columns": null,
            "grid_auto_flow": null,
            "grid_auto_rows": null,
            "grid_column": null,
            "grid_gap": null,
            "grid_row": null,
            "grid_template_areas": null,
            "grid_template_columns": null,
            "grid_template_rows": null,
            "height": null,
            "justify_content": null,
            "justify_items": null,
            "left": null,
            "margin": null,
            "max_height": null,
            "max_width": null,
            "min_height": null,
            "min_width": null,
            "object_fit": null,
            "object_position": null,
            "order": null,
            "overflow": null,
            "overflow_x": null,
            "overflow_y": null,
            "padding": null,
            "right": null,
            "top": null,
            "visibility": null,
            "width": "20px"
          }
        },
        "cf0a3da834764f1f96395d18d8e28fb5": {
          "model_module": "@jupyter-widgets/controls",
          "model_name": "ProgressStyleModel",
          "model_module_version": "1.5.0",
          "state": {
            "_model_module": "@jupyter-widgets/controls",
            "_model_module_version": "1.5.0",
            "_model_name": "ProgressStyleModel",
            "_view_count": null,
            "_view_module": "@jupyter-widgets/base",
            "_view_module_version": "1.2.0",
            "_view_name": "StyleView",
            "bar_color": null,
            "description_width": ""
          }
        },
        "f9cc1cc3d7004b80a5a2955aced606ac": {
          "model_module": "@jupyter-widgets/base",
          "model_name": "LayoutModel",
          "model_module_version": "1.2.0",
          "state": {
            "_model_module": "@jupyter-widgets/base",
            "_model_module_version": "1.2.0",
            "_model_name": "LayoutModel",
            "_view_count": null,
            "_view_module": "@jupyter-widgets/base",
            "_view_module_version": "1.2.0",
            "_view_name": "LayoutView",
            "align_content": null,
            "align_items": null,
            "align_self": null,
            "border": null,
            "bottom": null,
            "display": null,
            "flex": null,
            "flex_flow": null,
            "grid_area": null,
            "grid_auto_columns": null,
            "grid_auto_flow": null,
            "grid_auto_rows": null,
            "grid_column": null,
            "grid_gap": null,
            "grid_row": null,
            "grid_template_areas": null,
            "grid_template_columns": null,
            "grid_template_rows": null,
            "height": null,
            "justify_content": null,
            "justify_items": null,
            "left": null,
            "margin": null,
            "max_height": null,
            "max_width": null,
            "min_height": null,
            "min_width": null,
            "object_fit": null,
            "object_position": null,
            "order": null,
            "overflow": null,
            "overflow_x": null,
            "overflow_y": null,
            "padding": null,
            "right": null,
            "top": null,
            "visibility": null,
            "width": null
          }
        },
        "62e2f070a0cc4fe5a0acd1b1e3cda7d3": {
          "model_module": "@jupyter-widgets/controls",
          "model_name": "DescriptionStyleModel",
          "model_module_version": "1.5.0",
          "state": {
            "_model_module": "@jupyter-widgets/controls",
            "_model_module_version": "1.5.0",
            "_model_name": "DescriptionStyleModel",
            "_view_count": null,
            "_view_module": "@jupyter-widgets/base",
            "_view_module_version": "1.2.0",
            "_view_name": "StyleView",
            "description_width": ""
          }
        }
      }
    },
    "accelerator": "TPU"
  },
  "cells": [
    {
      "cell_type": "markdown",
      "source": [],
      "metadata": {
        "id": "qmuL2vpW60Uj"
      }
    },
    {
      "cell_type": "markdown",
      "source": [
        "# Montar Google Drive"
      ],
      "metadata": {
        "id": "8c3pGej361L3"
      }
    },
    {
      "cell_type": "code",
      "source": [
        "from google.colab import drive\n",
        "drive.mount('/content/drive')"
      ],
      "metadata": {
        "colab": {
          "base_uri": "https://localhost:8080/"
        },
        "id": "lkIlmcrl652b",
        "outputId": "306ffcf7-8998-4dea-9f87-7ec0efcab6dd"
      },
      "execution_count": 1,
      "outputs": [
        {
          "output_type": "stream",
          "name": "stdout",
          "text": [
            "Mounted at /content/drive\n"
          ]
        }
      ]
    },
    {
      "cell_type": "markdown",
      "source": [
        "# Importamos las librerías"
      ],
      "metadata": {
        "id": "l02KXplt7uTb"
      }
    },
    {
      "cell_type": "code",
      "source": [
        "! pip install transformers datasets"
      ],
      "metadata": {
        "id": "aSgGYe0rppBS"
      },
      "execution_count": null,
      "outputs": []
    },
    {
      "cell_type": "code",
      "source": [
        "!pip install albumentations"
      ],
      "metadata": {
        "id": "f7UmX_H7-J00"
      },
      "execution_count": null,
      "outputs": []
    },
    {
      "cell_type": "code",
      "source": [
        "!pip install optuna"
      ],
      "metadata": {
        "id": "OWYqIhQ7-cbg"
      },
      "execution_count": null,
      "outputs": []
    },
    {
      "cell_type": "code",
      "source": [
        "import os\n",
        "import random\n",
        "import tensorflow as tf\n",
        "import matplotlib.pyplot as plt\n",
        "import seaborn as sns\n",
        "import albumentations as A\n",
        "import optuna\n",
        "from transformers import ViTForImageClassification, ViTFeatureExtractor, TrainingArguments, Trainer\n",
        "from datasets import load_dataset\n",
        "import torch\n",
        "from sklearn.metrics import accuracy_score, precision_recall_fscore_support\n",
        "import numpy as np\n",
        "from PIL import Image\n",
        "from transformers import DeiTForImageClassification, DeiTFeatureExtractor\n",
        "from transformers import EarlyStoppingCallback\n",
        "from sklearn.metrics import confusion_matrix\n",
        "from IPython.display import display"
      ],
      "metadata": {
        "id": "yY0E3ymF8DXg",
        "colab": {
          "base_uri": "https://localhost:8080/"
        },
        "outputId": "46e0abe7-6611-4f18-aa0d-3cdf19949e92"
      },
      "execution_count": 7,
      "outputs": [
        {
          "output_type": "stream",
          "name": "stderr",
          "text": [
            "/usr/local/lib/python3.10/dist-packages/albumentations/__init__.py:24: UserWarning: A new version of Albumentations is available: 1.4.21 (you have 1.4.20). Upgrade using: pip install -U albumentations. To disable automatic update checks, set the environment variable NO_ALBUMENTATIONS_UPDATE to 1.\n",
            "  check_for_updates()\n"
          ]
        }
      ]
    },
    {
      "cell_type": "markdown",
      "source": [
        "# Configuración del dispositivo"
      ],
      "metadata": {
        "id": "-oWjpeO38RXc"
      }
    },
    {
      "cell_type": "code",
      "source": [
        "device = torch.device(\"cuda\" if torch.cuda.is_available() else \"cpu\")\n",
        "print(f\"Usando dispositivo: {device}\")"
      ],
      "metadata": {
        "colab": {
          "base_uri": "https://localhost:8080/"
        },
        "id": "rn0RLXY48VQn",
        "outputId": "ab2aecca-f8db-4052-a46a-98011c03c550"
      },
      "execution_count": 8,
      "outputs": [
        {
          "output_type": "stream",
          "name": "stdout",
          "text": [
            "Usando dispositivo: cuda\n"
          ]
        }
      ]
    },
    {
      "cell_type": "markdown",
      "source": [
        "# Cargamos el dataset desde las carpetas en Google Drive"
      ],
      "metadata": {
        "id": "Uj_eS-MC8b__"
      }
    },
    {
      "cell_type": "code",
      "source": [
        "dataset_path = \"/content/drive/My Drive/TP-VPC-II\"  # Establecer la ruta correcta\n",
        "dataset = load_dataset(\"imagefolder\", data_dir=dataset_path)"
      ],
      "metadata": {
        "colab": {
          "base_uri": "https://localhost:8080/",
          "height": 305,
          "referenced_widgets": [
            "83da933295aa4cab9b5c287579f7eb7f",
            "ca565b2c8af044abbfa4a6e06e6f3eef",
            "bd7496e904fa4235a5f82fa36ba4fb8c",
            "477cbfa404484b8ba5095013609e3af0",
            "fa5741a8a2f0492fa55d4a191d99707d",
            "621a6e6cb79f44c4bf2bc827610a0ad9",
            "c44fd0386bc24ff5aa6d3022a2d69306",
            "0cb902bda6b04a929fa47c367395fe03",
            "2898ac0bd47b4bffbb7784f4df9b3163",
            "5382c3e3eaef428db65231749d2c2d06",
            "962d24ac9e404478924d52e0a911b9ee",
            "9eb5539f31284434893a55ff443b6118",
            "6c2020a7f148464c9745cbb229adeaaa",
            "b6ee30b280314b6f8a3adfe1dc1fdc48",
            "36d44778985a4b3f97701ad99756a60f",
            "01fdb9e964144d15b5ccf1520e5e7bd7",
            "38e43e0d67bf4cde9cc9221cce305c96",
            "14cade1357c24bb0b789f41b301a404d",
            "3a6289ef66294dac8c36fec130da2fe9",
            "3cb97b7075c44469a40292abe74e5b25",
            "8e1992486c134f1c98e8866eefb92de6",
            "5f0fcc8dce88400199f1d63ff2669863",
            "f6e8e8d8a81b4c2c96e886fdf0772d70",
            "2dc9b94c66d247b8b96e03e40d5ca8dd",
            "b623d797124147fba8af6a0b1b99c8d8",
            "b4617ac18b6742ac9a9f320996a721a0",
            "72f92a2b40704a4fae03ceb1a8c82c8e",
            "9d7bbd0fc25c42d384397c6b7e6d1765",
            "cac6e86da7474a6e888ac5503cfeb20c",
            "bbd41917115c4c29856059630a2bb5b9",
            "765803dccddf467788f87d4902885179",
            "5545e29faa7f4b1094d4533d9030328a",
            "f0dd8093fd5e4f08ac621ef557af726d",
            "320dcfd81267431db12001a545eb184d",
            "9b5eb72b630940b5815e1a26eccd2375",
            "453bdf0dc292402cb8a8f9def1137000",
            "1f5c9c687cbc49ef8181696866a34ab4",
            "31b6f591305c46caa0487f6dd186f3cf",
            "7c5f2f6fc18c49e1916a571c835fb5c6",
            "723b39ed5c93423aab439a9efbd9eff2",
            "d7041a5a67d44f5f9516b8bc29e874e7",
            "08446de5311d4e3a8e9f182996b93976",
            "82c25d2618f7419996521d59041d10f8",
            "f7d68ae10fbb40a88a134ad6af521148",
            "257649427930460180c3b41030e3aab6",
            "787351b1ffb9495192a8bea072a67b32",
            "b1d3859ce334447e867b1b68e6c6d8b4",
            "a4d1f8e7a637411ebc2133f502db9bfb",
            "365fecd99e264363ae0f1ff768273de6",
            "7763f73686794b4faa83dc2a4c890887",
            "cfe15e4908e542efaa16c2a5a1ddd768",
            "3439ce0164734dbf9c9c5196d372c735",
            "5fbe9d86f84445bbaa96052d8de7e107",
            "05cef24a7ef94ff5bfc230690decbee5",
            "7ca721aab7824053ade15a2c664f9c72",
            "6110563c267d49eebfea1001519e0b68",
            "aca60fbc43fe46f4bf9b2db567687a4e",
            "2f63e1e677d74202a42563fdeebe1d8a",
            "9a476365720a45d08a1edd0acdbf1b65",
            "5dd5c0f9b7f6401c858bd367a1977d86",
            "8028c91bbbfb4928a5034e7ca2bcf8dc",
            "d12b197ee75b4f6f980a6d96a82aae1c",
            "e415d68b74e2420181592d3dd10af85a",
            "82829a7ba9d04080a07ba06bdbca18ef",
            "811066c70d914318a06309bc5ba6191d",
            "5764014295b8477f92787bcad3b13d12",
            "1c004d84db9b42938a49dd2b3f46f665",
            "8991cdbc6f1c43fb99e37bd5b2654bfa",
            "f9b150bdd79144f2a099c3c189d1e2b8",
            "9aafbdb4e1a0485cac40092c2fabb0d2",
            "cec85bcf842c4ca6905188023c5f9f77",
            "8a815f1a829743e193973122d1790947",
            "236d922a9c3149d2bb1c3dde3bf0a317",
            "55488d0aab7241b3bcbb6bb13d60a823",
            "9ee03451a7fb44dea5720f7d12a3f372",
            "8d54c68a9b8d4d92a532a08cfa217d10",
            "a3a436d8deae4d72acbbf07b51566c96",
            "81d09241ec194e84b13ad594d928d448",
            "79b1de420ef64e5493879e0dfa5e886c",
            "2202875490fd4ad59fd110074f38562e",
            "8776c06208634015909702c0aa9a2096",
            "bae5e9b06e844a2288bb16a1322c53ea",
            "15ec1033fc1e49c68549cba430a0eaf7",
            "f0ea70c6c29340b9827681e0d2f0f81d",
            "ca4ff3f2e6fc43d1bf404b0ba5e8748c",
            "52492d76e190485690854fb9ad8f3bcf",
            "9fd2436d92df484c8ce229fdb052ce85",
            "af73262f78354298bf5d6b4f5a868ca7",
            "b273eea79bfc4d3484340b55b4de71d0",
            "91e55a416b594e9f8c4ded8f930e77cd",
            "4a05c8eb40e343e9badb7755c62f3626",
            "84bd2fc2ca8e4517b212c9845d149f54",
            "aa529f2b98004266bcd117fd3692c090",
            "31bee2966a0944b8ab8fac89cd7cb015",
            "78084b8da497463aa2b8c7b45b90f38b",
            "62acc722b70f45fc92a41bd6f1ed499c",
            "cf0a3da834764f1f96395d18d8e28fb5",
            "f9cc1cc3d7004b80a5a2955aced606ac",
            "62e2f070a0cc4fe5a0acd1b1e3cda7d3"
          ]
        },
        "id": "0GkRyLb38iDZ",
        "outputId": "8cdf5043-3cb4-44bb-ec74-2eff83c58dd6"
      },
      "execution_count": 9,
      "outputs": [
        {
          "output_type": "display_data",
          "data": {
            "text/plain": [
              "Resolving data files:   0%|          | 0/9994 [00:00<?, ?it/s]"
            ],
            "application/vnd.jupyter.widget-view+json": {
              "version_major": 2,
              "version_minor": 0,
              "model_id": "83da933295aa4cab9b5c287579f7eb7f"
            }
          },
          "metadata": {}
        },
        {
          "output_type": "display_data",
          "data": {
            "text/plain": [
              "Resolving data files:   0%|          | 0/800 [00:00<?, ?it/s]"
            ],
            "application/vnd.jupyter.widget-view+json": {
              "version_major": 2,
              "version_minor": 0,
              "model_id": "9eb5539f31284434893a55ff443b6118"
            }
          },
          "metadata": {}
        },
        {
          "output_type": "display_data",
          "data": {
            "text/plain": [
              "Resolving data files:   0%|          | 0/992 [00:00<?, ?it/s]"
            ],
            "application/vnd.jupyter.widget-view+json": {
              "version_major": 2,
              "version_minor": 0,
              "model_id": "f6e8e8d8a81b4c2c96e886fdf0772d70"
            }
          },
          "metadata": {}
        },
        {
          "output_type": "display_data",
          "data": {
            "text/plain": [
              "Downloading data:   0%|          | 0/9994 [00:00<?, ?files/s]"
            ],
            "application/vnd.jupyter.widget-view+json": {
              "version_major": 2,
              "version_minor": 0,
              "model_id": "320dcfd81267431db12001a545eb184d"
            }
          },
          "metadata": {}
        },
        {
          "output_type": "display_data",
          "data": {
            "text/plain": [
              "Downloading data:   0%|          | 0/800 [00:00<?, ?files/s]"
            ],
            "application/vnd.jupyter.widget-view+json": {
              "version_major": 2,
              "version_minor": 0,
              "model_id": "257649427930460180c3b41030e3aab6"
            }
          },
          "metadata": {}
        },
        {
          "output_type": "display_data",
          "data": {
            "text/plain": [
              "Downloading data:   0%|          | 0/992 [00:00<?, ?files/s]"
            ],
            "application/vnd.jupyter.widget-view+json": {
              "version_major": 2,
              "version_minor": 0,
              "model_id": "6110563c267d49eebfea1001519e0b68"
            }
          },
          "metadata": {}
        },
        {
          "output_type": "display_data",
          "data": {
            "text/plain": [
              "Generating train split: 0 examples [00:00, ? examples/s]"
            ],
            "application/vnd.jupyter.widget-view+json": {
              "version_major": 2,
              "version_minor": 0,
              "model_id": "1c004d84db9b42938a49dd2b3f46f665"
            }
          },
          "metadata": {}
        },
        {
          "output_type": "display_data",
          "data": {
            "text/plain": [
              "Generating validation split: 0 examples [00:00, ? examples/s]"
            ],
            "application/vnd.jupyter.widget-view+json": {
              "version_major": 2,
              "version_minor": 0,
              "model_id": "81d09241ec194e84b13ad594d928d448"
            }
          },
          "metadata": {}
        },
        {
          "output_type": "display_data",
          "data": {
            "text/plain": [
              "Generating test split: 0 examples [00:00, ? examples/s]"
            ],
            "application/vnd.jupyter.widget-view+json": {
              "version_major": 2,
              "version_minor": 0,
              "model_id": "b273eea79bfc4d3484340b55b4de71d0"
            }
          },
          "metadata": {}
        }
      ]
    },
    {
      "cell_type": "markdown",
      "source": [
        "Información básica del dataset"
      ],
      "metadata": {
        "id": "-QN9ZuemrBAH"
      }
    },
    {
      "cell_type": "code",
      "source": [
        "print(dataset)\n",
        "print(dataset['train'][0])  # Ejemplo del conjunto de entrenamiento"
      ],
      "metadata": {
        "colab": {
          "base_uri": "https://localhost:8080/"
        },
        "id": "vK5AHYLtSxQJ",
        "outputId": "aab269d1-9079-4cb8-b5f1-ce0fdd84b4eb"
      },
      "execution_count": 10,
      "outputs": [
        {
          "output_type": "stream",
          "name": "stdout",
          "text": [
            "DatasetDict({\n",
            "    train: Dataset({\n",
            "        features: ['image', 'label'],\n",
            "        num_rows: 9994\n",
            "    })\n",
            "    validation: Dataset({\n",
            "        features: ['image', 'label'],\n",
            "        num_rows: 800\n",
            "    })\n",
            "    test: Dataset({\n",
            "        features: ['image', 'label'],\n",
            "        num_rows: 992\n",
            "    })\n",
            "})\n",
            "{'image': <PIL.PngImagePlugin.PngImageFile image mode=RGB size=224x224 at 0x7D401C6D43A0>, 'label': 0}\n"
          ]
        }
      ]
    },
    {
      "cell_type": "markdown",
      "source": [
        "Revisión de las etiquetas"
      ],
      "metadata": {
        "id": "NGUcPRVsrt5o"
      }
    },
    {
      "cell_type": "code",
      "source": [
        "print(dataset['train'].features['label'].names)  # Observaremos el nombre de las clases"
      ],
      "metadata": {
        "colab": {
          "base_uri": "https://localhost:8080/"
        },
        "id": "lZ4n3skhrxyX",
        "outputId": "5f35bcb3-b5b7-42de-c7d0-aa5405b9cc2d"
      },
      "execution_count": 11,
      "outputs": [
        {
          "output_type": "stream",
          "name": "stdout",
          "text": [
            "['con_mascarilla', 'sin_mascarilla']\n"
          ]
        }
      ]
    },
    {
      "cell_type": "markdown",
      "source": [
        "Verificamos el formato y la validez de las imágenes"
      ],
      "metadata": {
        "id": "3Z6IMFm140e9"
      }
    },
    {
      "cell_type": "code",
      "source": [
        "def verificar_imagenes(ruta):\n",
        "    errores = []\n",
        "    for clase in os.listdir(ruta):\n",
        "        ruta_clase = os.path.join(ruta, clase)\n",
        "        if os.path.isdir(ruta_clase):\n",
        "            for archivo in os.listdir(ruta_clase):\n",
        "                ruta_archivo = os.path.join(ruta_clase, archivo)\n",
        "                try:\n",
        "                    with Image.open(ruta_archivo) as img:\n",
        "                        img.verify()  # Verifica que el archivo sea válido\n",
        "                except Exception as e:\n",
        "                    errores.append(ruta_archivo)\n",
        "    return errores"
      ],
      "metadata": {
        "id": "pZFz3Rpa48Gi"
      },
      "execution_count": 12,
      "outputs": []
    },
    {
      "cell_type": "code",
      "source": [
        "# Verificamos las imágenes en cada conjunto\n",
        "errores_entrenamiento = verificar_imagenes('/content/drive/MyDrive/TP-VPC-II/train')\n",
        "errores_validacion = verificar_imagenes('/content/drive/MyDrive/TP-VPC-II/validation')\n",
        "errores_prueba = verificar_imagenes('/content/drive/MyDrive/TP-VPC-II/test')"
      ],
      "metadata": {
        "id": "_eni--JT5Fea"
      },
      "execution_count": null,
      "outputs": []
    },
    {
      "cell_type": "code",
      "source": [
        "print(\"Errores en entrenamiento\",errores_entrenamiento)\n",
        "print(\"Errores en validacion\",errores_validacion)\n",
        "print(\"Errores en prueba\",errores_prueba)"
      ],
      "metadata": {
        "colab": {
          "base_uri": "https://localhost:8080/"
        },
        "id": "QGtx8oii7jt9",
        "outputId": "50950c6b-0dd2-4aa8-aa7c-933ffec69d7a"
      },
      "execution_count": null,
      "outputs": [
        {
          "output_type": "stream",
          "name": "stdout",
          "text": [
            "Errores en entrenamiento []\n",
            "Errores en validacion []\n",
            "Errores en prueba []\n"
          ]
        }
      ]
    },
    {
      "cell_type": "markdown",
      "source": [
        "**COMENTARIO**\n",
        "\n",
        "Se verificó la validez de las imágenes de los conjuntos de entrenamiento, validación  y prueba mediante un procedimiento que aseguraba que los archivos fueran accesibles y estuvieran en formatos compatibles.\n",
        "\n",
        "El análisis no identificó imagenes corruptas o ilegibles en ninguna de las carpetas. Esto confirma que el dataset está limpio y no requiere depuración adicional en esa etapa.\n",
        "\n",
        "La correcta integridad de los datos asegura un inicio óptimo para el entrenamiento del modelo."
      ],
      "metadata": {
        "id": "meJZYjtd7rIn"
      }
    },
    {
      "cell_type": "markdown",
      "source": [
        "**Visualizaremos una imagen de cada clase, para asegurarnos que están bien etiquetada y que tengan una calidad razonable.**"
      ],
      "metadata": {
        "id": "cx143JlX72o_"
      }
    },
    {
      "cell_type": "code",
      "source": [
        "def mostrar_imagenes(dataset, clase):\n",
        "    dataset_clase = f'/content/drive/MyDrive/TP-VPC-II/train/{clase}'\n",
        "    imagenes = os.listdir(dataset_clase)\n",
        "    muestras = random.sample(imagenes, 5)\n",
        "\n",
        "    plt.figure(figsize=(10, 10))\n",
        "    for i, imagen in enumerate(muestras):\n",
        "        ruta_imagen = os.path.join(dataset_clase, imagen)\n",
        "        img = tf.keras.utils.load_img(ruta_imagen)\n",
        "        plt.subplot(1, 5, i+1)\n",
        "        plt.imshow(img)\n",
        "        plt.axis('off')\n",
        "        plt.title(clase)\n",
        "    plt.show()\n",
        "\n",
        "mostrar_imagenes('/content/drive/MyDrive/TP-VPC-II/train', 'con_mascarilla')\n",
        "mostrar_imagenes('/content/drive/MyDrive/TP-VPC-II/train', 'sin_mascarilla')"
      ],
      "metadata": {
        "colab": {
          "base_uri": "https://localhost:8080/",
          "height": 367
        },
        "id": "5oFcyBkt71Dn",
        "outputId": "3695c6a3-a0ce-47a1-aef8-2bfa44a8983f"
      },
      "execution_count": 21,
      "outputs": [
        {
          "output_type": "display_data",
          "data": {
            "text/plain": [
              "<Figure size 1000x1000 with 5 Axes>"
            ],
            "image/png": "[encoded data removed]"
          },
          "metadata": {}
        },
        {
          "output_type": "display_data",
          "data": {
            "text/plain": [
              "<Figure size 1000x1000 with 5 Axes>"
            ],
            "image/png": "[encoded data removed]"
          },
          "metadata": {}
        }
      ]
    },
    {
      "cell_type": "code",
      "source": [
        "def verificar_resolucion(ruta, resolucion_minima=(224, 224)):\n",
        "    problemas = []\n",
        "    for clase in os.listdir(ruta):\n",
        "        ruta_clase = os.path.join(ruta, clase)\n",
        "        if os.path.isdir(ruta_clase):\n",
        "            for archivo in os.listdir(ruta_clase):\n",
        "                ruta_archivo = os.path.join(ruta_clase, archivo)\n",
        "                try:\n",
        "                    with Image.open(ruta_archivo) as img:\n",
        "                        if img.size[0] < resolucion_minima[0] or img.size[1] < resolucion_minima[1]:\n",
        "                            problemas.append((ruta_archivo, img.size))\n",
        "                except Exception as e:\n",
        "                    print(f\"Error con la imagen {ruta_archivo}: {e}\")\n",
        "    return problemas\n",
        "\n",
        "# Verificar resolución en entrenamiento\n",
        "problemas_resolucion = verificar_resolucion('/content/drive/MyDrive/TP-VPC-II/train')\n",
        "print(f\"Imágenes con resolución insuficiente: {problemas_resolucion}\")"
      ],
      "metadata": {
        "colab": {
          "base_uri": "https://localhost:8080/"
        },
        "id": "P03TYH059kWW",
        "outputId": "76d7c010-3d8d-49dc-8ac0-f554d5da6fae"
      },
      "execution_count": null,
      "outputs": [
        {
          "output_type": "stream",
          "name": "stdout",
          "text": [
            "Imágenes con resolución insuficiente: []\n"
          ]
        }
      ]
    },
    {
      "cell_type": "markdown",
      "source": [
        "Como podemos observar actualmente no tenemos imagenes con resolución insuficiente."
      ],
      "metadata": {
        "id": "lxWy3Qwuyk7l"
      }
    },
    {
      "cell_type": "markdown",
      "source": [
        "Codigo para redimensionar imagenes"
      ],
      "metadata": {
        "id": "MZRA_BcI-YDg"
      }
    },
    {
      "cell_type": "code",
      "source": [
        "def redimensionar_imagenes(ruta, nueva_resolucion=(224, 224)):\n",
        "    for clase in os.listdir(ruta):\n",
        "        ruta_clase = os.path.join(ruta, clase)\n",
        "        if os.path.isdir(ruta_clase):\n",
        "            for archivo in os.listdir(ruta_clase):\n",
        "                ruta_archivo = os.path.join(ruta_clase, archivo)\n",
        "                try:\n",
        "                    with Image.open(ruta_archivo) as img:\n",
        "                        img = img.resize(nueva_resolucion)\n",
        "                        img.save(ruta_archivo)\n",
        "                except Exception as e:\n",
        "                    print(f\"No se pudo redimensionar {ruta_archivo}: {e}\")\n",
        "\n",
        "# Redimensionar imágenes en entrenamiento\n",
        "redimensionar_imagenes('/content/drive/MyDrive/TP-VPC-II/train')\n",
        "print(\"Imágenes redimensionadas correctamente.\")"
      ],
      "metadata": {
        "id": "SjVBvrg9-cu4",
        "colab": {
          "base_uri": "https://localhost:8080/"
        },
        "outputId": "38f9f845-40c8-4ec6-e03f-13d05c714744"
      },
      "execution_count": null,
      "outputs": [
        {
          "output_type": "stream",
          "name": "stdout",
          "text": [
            "Imágenes redimensionadas correctamente.\n"
          ]
        }
      ]
    },
    {
      "cell_type": "markdown",
      "source": [
        "Detección de Outliers en imágenes"
      ],
      "metadata": {
        "id": "u6MbSHJewefP"
      }
    },
    {
      "cell_type": "code",
      "source": [
        "def detectar_outliers_imagenes(ruta_dataset, umbral=3):\n",
        "    \"\"\"\n",
        "    Detecta posibles outliers en un conjunto de imágenes.\n",
        "\n",
        "    Args:\n",
        "        ruta_dataset: La ruta al directorio que contiene las imágenes.\n",
        "        umbral: El número de desviaciones estándar para considerar un valor como outlier.\n",
        "\n",
        "    Returns:\n",
        "        Una lista de rutas a las imágenes que podrían ser outliers.\n",
        "    \"\"\"\n",
        "\n",
        "    posibles_outliers = []\n",
        "\n",
        "    for clase in os.listdir(ruta_dataset):\n",
        "        ruta_clase = os.path.join(ruta_dataset, clase)\n",
        "        if os.path.isdir(ruta_clase):\n",
        "            for archivo in os.listdir(ruta_clase):\n",
        "                ruta_imagen = os.path.join(ruta_clase, archivo)\n",
        "                try:\n",
        "                    with Image.open(ruta_imagen) as img:\n",
        "                        img_array = np.array(img)\n",
        "\n",
        "                        # Calcula la media y desviación estándar de los valores de píxeles\n",
        "                        media = np.mean(img_array)\n",
        "                        desviacion_estandar = np.std(img_array)\n",
        "\n",
        "                        # Encuentra valores de píxeles que estén fuera del umbral\n",
        "                        outliers = np.where(np.abs(img_array - media) > umbral * desviacion_estandar)\n",
        "\n",
        "                        # Si hay outliers, agrega la imagen a la lista de posibles outliers\n",
        "                        if len(outliers[0]) > 0:\n",
        "                            posibles_outliers.append(ruta_imagen)\n",
        "\n",
        "                except Exception as e:\n",
        "                    print(f\"Error con la imagen {ruta_imagen}: {e}\")\n",
        "\n",
        "    return posibles_outliers\n",
        "\n",
        "\n",
        "# Ejemplo de uso\n",
        "ruta_dataset = '/content/drive/MyDrive/TP-VPC-II/train'  # Ruta de mis datos de entrenamiento\n",
        "posibles_outliers = detectar_outliers_imagenes(ruta_dataset,umbral =5)\n",
        "\n",
        "print(\"Posibles outliers:\")\n",
        "for imagen in posibles_outliers:\n",
        "    print(imagen)"
      ],
      "metadata": {
        "colab": {
          "base_uri": "https://localhost:8080/"
        },
        "id": "zf2ydRxjwqps",
        "outputId": "2abe0b51-2fe6-4735-87ce-3b60b2360e36"
      },
      "execution_count": null,
      "outputs": [
        {
          "output_type": "stream",
          "name": "stdout",
          "text": [
            "Posibles outliers:\n",
            "/content/drive/MyDrive/TP-VPC-II/train/con_mascarilla/Augmented_676_5077593.png\n",
            "/content/drive/MyDrive/TP-VPC-II/train/con_mascarilla/Augmented_676_4687648.png\n",
            "/content/drive/MyDrive/TP-VPC-II/train/con_mascarilla/Augmented_348_505066.png\n",
            "/content/drive/MyDrive/TP-VPC-II/train/con_mascarilla/Augmented_365_4420617.png\n",
            "/content/drive/MyDrive/TP-VPC-II/train/con_mascarilla/Augmented_505_3747869.png\n",
            "/content/drive/MyDrive/TP-VPC-II/train/con_mascarilla/Augmented_505_4694065.png\n",
            "/content/drive/MyDrive/TP-VPC-II/train/con_mascarilla/Augmented_298_5201201.png\n",
            "/content/drive/MyDrive/TP-VPC-II/train/con_mascarilla/Augmented_298_9318750.png\n",
            "/content/drive/MyDrive/TP-VPC-II/train/con_mascarilla/Augmented_298_3325075.png\n",
            "/content/drive/MyDrive/TP-VPC-II/train/con_mascarilla/Augmented_266_4133371.png\n",
            "/content/drive/MyDrive/TP-VPC-II/train/con_mascarilla/Augmented_348_5675938.png\n",
            "/content/drive/MyDrive/TP-VPC-II/train/con_mascarilla/Augmented_348_5679704.png\n",
            "/content/drive/MyDrive/TP-VPC-II/train/con_mascarilla/1533.png\n",
            "/content/drive/MyDrive/TP-VPC-II/train/con_mascarilla/Augmented_13_84296.png\n",
            "/content/drive/MyDrive/TP-VPC-II/train/con_mascarilla/Augmented_163_4056851.png\n",
            "/content/drive/MyDrive/TP-VPC-II/train/sin_mascarilla/513.png\n",
            "/content/drive/MyDrive/TP-VPC-II/train/sin_mascarilla/5441.png\n",
            "/content/drive/MyDrive/TP-VPC-II/train/sin_mascarilla/4679.png\n",
            "/content/drive/MyDrive/TP-VPC-II/train/sin_mascarilla/4819.png\n",
            "/content/drive/MyDrive/TP-VPC-II/train/sin_mascarilla/5150.png\n",
            "/content/drive/MyDrive/TP-VPC-II/train/sin_mascarilla/3498.png\n",
            "/content/drive/MyDrive/TP-VPC-II/train/sin_mascarilla/4088.png\n",
            "/content/drive/MyDrive/TP-VPC-II/train/sin_mascarilla/3360.png\n",
            "/content/drive/MyDrive/TP-VPC-II/train/sin_mascarilla/1084.png\n",
            "/content/drive/MyDrive/TP-VPC-II/train/sin_mascarilla/167.png\n",
            "/content/drive/MyDrive/TP-VPC-II/train/sin_mascarilla/1427.png\n"
          ]
        }
      ]
    },
    {
      "cell_type": "markdown",
      "source": [
        "Despues de analizar manualmente uno a uno las imagenes que fueron considerados posibles outliers, unicamente fueron outliers las siguientes imágenes.\n",
        "\n",
        "Clase con_mascarilla:\n",
        "*   Augmented_365_4420617.png\n",
        "*   Augmented_266_4133371.png\n",
        "*   1533.png (\"Deberia estar en la clases sin_mascarilla\")\n",
        "*   Augmented_13_84296.png\n",
        "*   Augmented_163_4056851.png\n",
        "\n",
        "Clase sin_mascarilla:\n",
        "*   4819.png"
      ],
      "metadata": {
        "id": "1d6rAzA3yPFP"
      }
    },
    {
      "cell_type": "markdown",
      "source": [
        "Función para eliminar los outliers"
      ],
      "metadata": {
        "id": "6u2EbV1zLT24"
      }
    },
    {
      "cell_type": "code",
      "source": [
        "def eliminar_imagen_especifica(ruta_imagen):\n",
        "  \"\"\"Elimina una imagen específica dada su ruta.\n",
        "\n",
        "  Args:\n",
        "      ruta_imagen: La ruta completa a la imagen que se va a eliminar.\n",
        "  \"\"\"\n",
        "  try:\n",
        "    os.remove(ruta_imagen)\n",
        "    print(f\"Imagen eliminada: {ruta_imagen}\")\n",
        "  except FileNotFoundError:\n",
        "    print(f\"Error: Imagen no encontrada en la ruta {ruta_imagen}\")\n",
        "  except Exception as e:\n",
        "    print(f\"Error al eliminar la imagen {ruta_imagen}: {e}\")"
      ],
      "metadata": {
        "id": "fLLF0NlqLYkx"
      },
      "execution_count": null,
      "outputs": []
    },
    {
      "cell_type": "markdown",
      "source": [
        "Eliminamos los outliers"
      ],
      "metadata": {
        "id": "pS7Hk1ICLqAd"
      }
    },
    {
      "cell_type": "code",
      "source": [
        "rutas_a_eliminar = [\n",
        "  \"/content/drive/MyDrive/TP-VPC-II/train/con_mascarilla/Augmented_365_4420617.png\",\n",
        "  \"/content/drive/MyDrive/TP-VPC-II/train/con_mascarilla/Augmented_266_4133371.png\",\n",
        "  \"/content/drive/MyDrive/TP-VPC-II/train/con_mascarilla/1533.png\",\n",
        "  \"/content/drive/MyDrive/TP-VPC-II/train/con_mascarilla/Augmented_13_84296.png\",\n",
        "  \"/content/drive/MyDrive/TP-VPC-II/train/con_mascarilla/Augmented_163_4056851.png\",\n",
        "  \"/content/drive/MyDrive/TP-VPC-II/train/sin_mascarilla/4819.png\"\n",
        "]\n",
        "\n",
        "for ruta in rutas_a_eliminar:\n",
        "  eliminar_imagen_especifica(ruta)"
      ],
      "metadata": {
        "colab": {
          "base_uri": "https://localhost:8080/"
        },
        "id": "X8gqhNHDLpEB",
        "outputId": "9c0e13b2-8710-47d6-89ee-441439a3bcd9"
      },
      "execution_count": null,
      "outputs": [
        {
          "output_type": "stream",
          "name": "stdout",
          "text": [
            "Imagen eliminada: /content/drive/MyDrive/TP-VPC-II/train/con_mascarilla/Augmented_365_4420617.png\n",
            "Imagen eliminada: /content/drive/MyDrive/TP-VPC-II/train/con_mascarilla/Augmented_266_4133371.png\n",
            "Imagen eliminada: /content/drive/MyDrive/TP-VPC-II/train/con_mascarilla/1533.png\n",
            "Imagen eliminada: /content/drive/MyDrive/TP-VPC-II/train/con_mascarilla/Augmented_13_84296.png\n",
            "Imagen eliminada: /content/drive/MyDrive/TP-VPC-II/train/con_mascarilla/Augmented_163_4056851.png\n",
            "Imagen eliminada: /content/drive/MyDrive/TP-VPC-II/train/sin_mascarilla/4819.png\n"
          ]
        }
      ]
    },
    {
      "cell_type": "markdown",
      "source": [
        "# Preparamos el Feature Extractor"
      ],
      "metadata": {
        "id": "BAkrRoURsASi"
      }
    },
    {
      "cell_type": "code",
      "source": [
        "feature_extractor = ViTFeatureExtractor.from_pretrained(\"google/vit-base-patch16-224-in21k\")"
      ],
      "metadata": {
        "colab": {
          "base_uri": "https://localhost:8080/"
        },
        "id": "YWN75pwmsEM7",
        "outputId": "ebd61f47-b706-44bb-929b-b6e33592fd41"
      },
      "execution_count": 69,
      "outputs": [
        {
          "output_type": "stream",
          "name": "stderr",
          "text": [
            "/usr/local/lib/python3.10/dist-packages/transformers/models/vit/feature_extraction_vit.py:28: FutureWarning: The class ViTFeatureExtractor is deprecated and will be removed in version 5 of Transformers. Please use ViTImageProcessor instead.\n",
            "  warnings.warn(\n"
          ]
        }
      ]
    },
    {
      "cell_type": "markdown",
      "source": [
        "Aumento de datos con albumentations"
      ],
      "metadata": {
        "id": "B0xvgtXFAcXC"
      }
    },
    {
      "cell_type": "code",
      "source": [
        "transform = A.Compose([\n",
        "    A.HorizontalFlip(p=0.05),# Volteo horizontal aleatorio\n",
        "    A.RandomBrightnessContrast(p=0.05),# Ajustes de brillo y contraste\n",
        "    A.ShiftScaleRotate(p=0.2) # Rotaciones, escalados y traslaciones\n",
        "])\n"
      ],
      "metadata": {
        "id": "RoJgXMKbAbo1"
      },
      "execution_count": 70,
      "outputs": []
    },
    {
      "cell_type": "markdown",
      "source": [
        "Función de preprocesamiento"
      ],
      "metadata": {
        "id": "KVldoPY68rEN"
      }
    },
    {
      "cell_type": "code",
      "source": [
        "def preprocess_images(examples):\n",
        "    images = examples[\"image\"]\n",
        "\n",
        "    # Aplica las transformaciones a cada imagen\n",
        "    transformed_images = [transform(image=np.array(img))[\"image\"] for img in images]\n",
        "\n",
        "    # Convierte las imágenes transformadas a formato PIL\n",
        "    transformed_images = [Image.fromarray(img) for img in transformed_images]\n",
        "\n",
        "    inputs = feature_extractor(transformed_images, return_tensors=\"pt\", padding=True)\n",
        "    inputs[\"label\"] = examples[\"label\"]\n",
        "    return inputs"
      ],
      "metadata": {
        "id": "7VXoIR66sbrT"
      },
      "execution_count": 71,
      "outputs": []
    },
    {
      "cell_type": "code",
      "source": [
        "#def preprocess_images(examples):\n",
        "    #images = examples[\"image\"]\n",
        "\n",
        "    #inputs = feature_extractor(images, return_tensors=\"pt\", padding=True)\n",
        "    #inputs[\"label\"] = examples[\"label\"]\n",
        "    #return inputs"
      ],
      "metadata": {
        "id": "D_4hVtaOiGMA"
      },
      "execution_count": 72,
      "outputs": []
    },
    {
      "cell_type": "markdown",
      "source": [
        "Pre-procesar el dataset"
      ],
      "metadata": {
        "id": "Hkco9N12sk3g"
      }
    },
    {
      "cell_type": "code",
      "source": [
        "prepared_dataset = dataset.with_transform(preprocess_images)"
      ],
      "metadata": {
        "id": "-nfBXFPBsncI"
      },
      "execution_count": 73,
      "outputs": []
    },
    {
      "cell_type": "markdown",
      "source": [
        "Cargamos el modelo pre-entrenado"
      ],
      "metadata": {
        "id": "bTvolUDjsq5M"
      }
    },
    {
      "cell_type": "code",
      "source": [
        "labels = dataset['train'].features['label'].names  # Extraer nombres de las clases\n",
        "model = ViTForImageClassification.from_pretrained(\n",
        "    \"google/vit-base-patch16-224-in21k\",\n",
        "    num_labels=len(labels),\n",
        "    id2label={i: label for i, label in enumerate(labels)},\n",
        "    label2id={label: i for i, label in enumerate(labels)}\n",
        ")\n",
        "model.to(device)"
      ],
      "metadata": {
        "colab": {
          "base_uri": "https://localhost:8080/"
        },
        "id": "6HlJcMx_sxje",
        "outputId": "26f44320-1fe7-476c-c6a5-3cdf29931d93"
      },
      "execution_count": 74,
      "outputs": [
        {
          "output_type": "stream",
          "name": "stderr",
          "text": [
            "Some weights of ViTForImageClassification were not initialized from the model checkpoint at google/vit-base-patch16-224-in21k and are newly initialized: ['classifier.bias', 'classifier.weight']\n",
            "You should probably TRAIN this model on a down-stream task to be able to use it for predictions and inference.\n"
          ]
        },
        {
          "output_type": "execute_result",
          "data": {
            "text/plain": [
              "ViTForImageClassification(\n",
              "  (vit): ViTModel(\n",
              "    (embeddings): ViTEmbeddings(\n",
              "      (patch_embeddings): ViTPatchEmbeddings(\n",
              "        (projection): Conv2d(3, 768, kernel_size=(16, 16), stride=(16, 16))\n",
              "      )\n",
              "      (dropout): Dropout(p=0.0, inplace=False)\n",
              "    )\n",
              "    (encoder): ViTEncoder(\n",
              "      (layer): ModuleList(\n",
              "        (0-11): 12 x ViTLayer(\n",
              "          (attention): ViTSdpaAttention(\n",
              "            (attention): ViTSdpaSelfAttention(\n",
              "              (query): Linear(in_features=768, out_features=768, bias=True)\n",
              "              (key): Linear(in_features=768, out_features=768, bias=True)\n",
              "              (value): Linear(in_features=768, out_features=768, bias=True)\n",
              "              (dropout): Dropout(p=0.0, inplace=False)\n",
              "            )\n",
              "            (output): ViTSelfOutput(\n",
              "              (dense): Linear(in_features=768, out_features=768, bias=True)\n",
              "              (dropout): Dropout(p=0.0, inplace=False)\n",
              "            )\n",
              "          )\n",
              "          (intermediate): ViTIntermediate(\n",
              "            (dense): Linear(in_features=768, out_features=3072, bias=True)\n",
              "            (intermediate_act_fn): GELUActivation()\n",
              "          )\n",
              "          (output): ViTOutput(\n",
              "            (dense): Linear(in_features=3072, out_features=768, bias=True)\n",
              "            (dropout): Dropout(p=0.0, inplace=False)\n",
              "          )\n",
              "          (layernorm_before): LayerNorm((768,), eps=1e-12, elementwise_affine=True)\n",
              "          (layernorm_after): LayerNorm((768,), eps=1e-12, elementwise_affine=True)\n",
              "        )\n",
              "      )\n",
              "    )\n",
              "    (layernorm): LayerNorm((768,), eps=1e-12, elementwise_affine=True)\n",
              "  )\n",
              "  (classifier): Linear(in_features=768, out_features=2, bias=True)\n",
              ")"
            ]
          },
          "metadata": {},
          "execution_count": 74
        }
      ]
    },
    {
      "cell_type": "markdown",
      "source": [
        " Definir métricas adicionales"
      ],
      "metadata": {
        "id": "iV_GYKFys-bd"
      }
    },
    {
      "cell_type": "code",
      "source": [
        "def compute_metrics(eval_pred):\n",
        "    logits, labels = eval_pred\n",
        "    predictions = np.argmax(logits, axis=-1)\n",
        "\n",
        "    # Calcular métricas\n",
        "    precision, recall, f1, _ = precision_recall_fscore_support(labels, predictions, average=\"binary\")\n",
        "    accuracy = accuracy_score(labels, predictions)\n",
        "\n",
        "    return {\n",
        "        \"accuracy\": accuracy,\n",
        "        \"precision\": precision,\n",
        "        \"recall\": recall,\n",
        "        \"f1\": f1\n",
        "    }"
      ],
      "metadata": {
        "id": "ijE9A1iHtBvF"
      },
      "execution_count": 75,
      "outputs": []
    },
    {
      "cell_type": "markdown",
      "source": [
        "Configurar argumentos de entrenamiento"
      ],
      "metadata": {
        "id": "GJs97nITtFor"
      }
    },
    {
      "cell_type": "code",
      "source": [
        "training_args = TrainingArguments(\n",
        "    output_dir=\"./results\",          # Carpeta para resultados\n",
        "    evaluation_strategy=\"epoch\",     # realizar evaluaciones durante el entrenamiento\n",
        "    save_strategy=\"epoch\",           # Guardar modelo cada ciertos pasos\n",
        "    save_steps=1000,                 # Guardar el modelo cada 1000 pasos\n",
        "    learning_rate=1e-4,              # Tasa de aprendizaje ajustada\n",
        "    per_device_train_batch_size=4,   # Reducir el tamaño del batch de entrenamiento\n",
        "    per_device_eval_batch_size=4,    # Reducir el tamaño del batch de evaluación\n",
        "    num_train_epochs=5,              # número de épocas\n",
        "    weight_decay=0.01,               # Regularización L2\n",
        "    logging_dir=\"./logs\",            # Carpeta para logs\n",
        "    logging_steps=200,               # Registrar logs cada 200 pasos\n",
        "    load_best_model_at_end=True,    # Load the best model at the end # Changed the comment to match the value you intend\n",
        "    save_total_limit=1,              # Guardar solo el último checkpoint\n",
        "    remove_unused_columns=False,     # Evitar eliminar columnas no estándar\n",
        "    fp16=True                        # Habilitar entrenamiento en 16 bits (si tu GPU lo soporta)\n",
        ")"
      ],
      "metadata": {
        "colab": {
          "base_uri": "https://localhost:8080/"
        },
        "id": "_stfn_VX-3hj",
        "outputId": "a6d2cdbd-758b-4aa5-f692-869e731082c7"
      },
      "execution_count": 76,
      "outputs": [
        {
          "output_type": "stream",
          "name": "stderr",
          "text": [
            "/usr/local/lib/python3.10/dist-packages/transformers/training_args.py:1568: FutureWarning: `evaluation_strategy` is deprecated and will be removed in version 4.46 of 🤗 Transformers. Use `eval_strategy` instead\n",
            "  warnings.warn(\n"
          ]
        }
      ]
    },
    {
      "cell_type": "markdown",
      "source": [
        "Configuramos el trainer"
      ],
      "metadata": {
        "id": "W3tzRfnftQEW"
      }
    },
    {
      "cell_type": "code",
      "source": [
        "trainer = Trainer(\n",
        "    model=model,\n",
        "    args=training_args,\n",
        "    train_dataset=prepared_dataset[\"train\"],\n",
        "    eval_dataset=prepared_dataset[\"validation\"],\n",
        "    tokenizer=feature_extractor,\n",
        "    compute_metrics=compute_metrics,\n",
        "    callbacks=[EarlyStoppingCallback(early_stopping_patience=3)]\n",
        ")"
      ],
      "metadata": {
        "colab": {
          "base_uri": "https://localhost:8080/"
        },
        "id": "D2ZGUcy6tSbM",
        "outputId": "1e85d308-a7a6-4207-e80f-335eb5237c22"
      },
      "execution_count": 77,
      "outputs": [
        {
          "output_type": "stream",
          "name": "stderr",
          "text": [
            "<ipython-input-77-03bafe2a6384>:1: FutureWarning: `tokenizer` is deprecated and will be removed in version 5.0.0 for `Trainer.__init__`. Use `processing_class` instead.\n",
            "  trainer = Trainer(\n"
          ]
        }
      ]
    },
    {
      "cell_type": "markdown",
      "source": [
        "Entrenamos el modelo"
      ],
      "metadata": {
        "id": "7pyK42OltXSq"
      }
    },
    {
      "cell_type": "code",
      "source": [
        "trainer.train()"
      ],
      "metadata": {
        "colab": {
          "base_uri": "https://localhost:8080/",
          "height": 495
        },
        "id": "pbG8wmyDtZwm",
        "outputId": "590853a9-0ced-4e62-ae31-d44b58ad6a4c"
      },
      "execution_count": 78,
      "outputs": [
        {
          "output_type": "stream",
          "name": "stderr",
          "text": [
            "/usr/local/lib/python3.10/dist-packages/transformers/image_processing_utils.py:41: UserWarning: The following named arguments are not valid for `ViTFeatureExtractor.preprocess` and were ignored: 'padding'\n",
            "  return self.preprocess(images, **kwargs)\n"
          ]
        },
        {
          "output_type": "display_data",
          "data": {
            "text/plain": [
              "<IPython.core.display.HTML object>"
            ],
            "text/html": [
              "\n",
              "    <div>\n",
              "      \n",
              "      <progress value='12495' max='12495' style='width:300px; height:20px; vertical-align: middle;'></progress>\n",
              "      [12495/12495 58:54, Epoch 5/5]\n",
              "    </div>\n",
              "    <table border=\"1\" class=\"dataframe\">\n",
              "  <thead>\n",
              " <tr style=\"text-align: left;\">\n",
              "      <th>Epoch</th>\n",
              "      <th>Training Loss</th>\n",
              "      <th>Validation Loss</th>\n",
              "      <th>Accuracy</th>\n",
              "      <th>Precision</th>\n",
              "      <th>Recall</th>\n",
              "      <th>F1</th>\n",
              "    </tr>\n",
              "  </thead>\n",
              "  <tbody>\n",
              "    <tr>\n",
              "      <td>1</td>\n",
              "      <td>0.042500</td>\n",
              "      <td>0.013656</td>\n",
              "      <td>0.997500</td>\n",
              "      <td>0.995025</td>\n",
              "      <td>1.000000</td>\n",
              "      <td>0.997506</td>\n",
              "    </tr>\n",
              "    <tr>\n",
              "      <td>2</td>\n",
              "      <td>0.000200</td>\n",
              "      <td>0.000099</td>\n",
              "      <td>1.000000</td>\n",
              "      <td>1.000000</td>\n",
              "      <td>1.000000</td>\n",
              "      <td>1.000000</td>\n",
              "    </tr>\n",
              "    <tr>\n",
              "      <td>3</td>\n",
              "      <td>0.025400</td>\n",
              "      <td>0.021128</td>\n",
              "      <td>0.996250</td>\n",
              "      <td>1.000000</td>\n",
              "      <td>0.992500</td>\n",
              "      <td>0.996236</td>\n",
              "    </tr>\n",
              "    <tr>\n",
              "      <td>4</td>\n",
              "      <td>0.000000</td>\n",
              "      <td>0.000017</td>\n",
              "      <td>1.000000</td>\n",
              "      <td>1.000000</td>\n",
              "      <td>1.000000</td>\n",
              "      <td>1.000000</td>\n",
              "    </tr>\n",
              "    <tr>\n",
              "      <td>5</td>\n",
              "      <td>0.000000</td>\n",
              "      <td>0.000013</td>\n",
              "      <td>1.000000</td>\n",
              "      <td>1.000000</td>\n",
              "      <td>1.000000</td>\n",
              "      <td>1.000000</td>\n",
              "    </tr>\n",
              "  </tbody>\n",
              "</table><p>"
            ]
          },
          "metadata": {}
        },
        {
          "output_type": "stream",
          "name": "stderr",
          "text": [
            "/usr/local/lib/python3.10/dist-packages/transformers/image_processing_utils.py:41: UserWarning: The following named arguments are not valid for `ViTFeatureExtractor.preprocess` and were ignored: 'padding'\n",
            "  return self.preprocess(images, **kwargs)\n",
            "/usr/local/lib/python3.10/dist-packages/transformers/image_processing_utils.py:41: UserWarning: The following named arguments are not valid for `ViTFeatureExtractor.preprocess` and were ignored: 'padding'\n",
            "  return self.preprocess(images, **kwargs)\n",
            "/usr/local/lib/python3.10/dist-packages/transformers/image_processing_utils.py:41: UserWarning: The following named arguments are not valid for `ViTFeatureExtractor.preprocess` and were ignored: 'padding'\n",
            "  return self.preprocess(images, **kwargs)\n",
            "/usr/local/lib/python3.10/dist-packages/transformers/image_processing_utils.py:41: UserWarning: The following named arguments are not valid for `ViTFeatureExtractor.preprocess` and were ignored: 'padding'\n",
            "  return self.preprocess(images, **kwargs)\n",
            "/usr/local/lib/python3.10/dist-packages/transformers/image_processing_utils.py:41: UserWarning: The following named arguments are not valid for `ViTFeatureExtractor.preprocess` and were ignored: 'padding'\n",
            "  return self.preprocess(images, **kwargs)\n"
          ]
        },
        {
          "output_type": "execute_result",
          "data": {
            "text/plain": [
              "TrainOutput(global_step=12495, training_loss=0.01161638550302323, metrics={'train_runtime': 3534.2073, 'train_samples_per_second': 14.139, 'train_steps_per_second': 3.535, 'total_flos': 3.872274721041162e+18, 'train_loss': 0.01161638550302323, 'epoch': 5.0})"
            ]
          },
          "metadata": {},
          "execution_count": 78
        }
      ]
    },
    {
      "cell_type": "markdown",
      "source": [
        "Evaluamos el modelo en el conjunto de prueba"
      ],
      "metadata": {
        "id": "BmnjyIZYWBSR"
      }
    },
    {
      "cell_type": "code",
      "source": [
        "eval_results = trainer.evaluate(prepared_dataset[\"test\"])\n",
        "print(\"Resultados en el conjunto de prueba:\", eval_results)"
      ],
      "metadata": {
        "id": "Vv2v3jCuWG4f",
        "colab": {
          "base_uri": "https://localhost:8080/",
          "height": 109
        },
        "outputId": "ccb60ba6-2da3-4032-f815-53cef0947852"
      },
      "execution_count": 79,
      "outputs": [
        {
          "output_type": "stream",
          "name": "stderr",
          "text": [
            "/usr/local/lib/python3.10/dist-packages/transformers/image_processing_utils.py:41: UserWarning: The following named arguments are not valid for `ViTFeatureExtractor.preprocess` and were ignored: 'padding'\n",
            "  return self.preprocess(images, **kwargs)\n"
          ]
        },
        {
          "output_type": "display_data",
          "data": {
            "text/plain": [
              "<IPython.core.display.HTML object>"
            ],
            "text/html": [
              "\n",
              "    <div>\n",
              "      \n",
              "      <progress value='248' max='248' style='width:300px; height:20px; vertical-align: middle;'></progress>\n",
              "      [248/248 13:43]\n",
              "    </div>\n",
              "    "
            ]
          },
          "metadata": {}
        },
        {
          "output_type": "stream",
          "name": "stdout",
          "text": [
            "Resultados en el conjunto de prueba: {'eval_loss': 0.021749192848801613, 'eval_accuracy': 0.9969758064516129, 'eval_precision': 0.9980314960629921, 'eval_recall': 0.9960707269155207, 'eval_f1': 0.9970501474926253, 'eval_runtime': 830.5374, 'eval_samples_per_second': 1.194, 'eval_steps_per_second': 0.299, 'epoch': 5.0}\n"
          ]
        }
      ]
    },
    {
      "cell_type": "markdown",
      "source": [
        "Obtenemos predicciones en el conjunto de prueba"
      ],
      "metadata": {
        "id": "9ykZB3Ca__0Z"
      }
    },
    {
      "cell_type": "code",
      "source": [
        "predictions = trainer.predict(prepared_dataset[\"test\"])\n",
        "predicted_labels = np.argmax(predictions.predictions, axis=1)\n",
        "true_labels = predictions.label_ids"
      ],
      "metadata": {
        "colab": {
          "base_uri": "https://localhost:8080/",
          "height": 72
        },
        "id": "RyUymcQxAGm-",
        "outputId": "9eafe717-9b14-49b5-ca7d-22352511d13b"
      },
      "execution_count": 80,
      "outputs": [
        {
          "output_type": "stream",
          "name": "stderr",
          "text": [
            "/usr/local/lib/python3.10/dist-packages/transformers/image_processing_utils.py:41: UserWarning: The following named arguments are not valid for `ViTFeatureExtractor.preprocess` and were ignored: 'padding'\n",
            "  return self.preprocess(images, **kwargs)\n"
          ]
        },
        {
          "output_type": "display_data",
          "data": {
            "text/plain": [
              "<IPython.core.display.HTML object>"
            ],
            "text/html": []
          },
          "metadata": {}
        }
      ]
    },
    {
      "cell_type": "markdown",
      "source": [
        "Calculamos la matriz de confusión"
      ],
      "metadata": {
        "id": "ah8DF2J4AQqw"
      }
    },
    {
      "cell_type": "code",
      "source": [
        "cm = confusion_matrix(true_labels, predicted_labels)"
      ],
      "metadata": {
        "id": "4OXA8ZR5AQB-"
      },
      "execution_count": null,
      "outputs": []
    },
    {
      "cell_type": "markdown",
      "source": [
        "Visualizamos la matriz de confusión"
      ],
      "metadata": {
        "id": "s7dPrgGWAits"
      }
    },
    {
      "cell_type": "code",
      "source": [
        "plt.figure(figsize=(10, 7))\n",
        "sns.heatmap(cm, annot=True, fmt=\"d\", cmap=\"Blues\",\n",
        "            xticklabels=labels, yticklabels=labels)\n",
        "plt.xlabel(\"Predicciones\")\n",
        "plt.ylabel(\"Etiquetas reales\")\n",
        "plt.title(\"Matriz de Confusión\")\n",
        "plt.show()"
      ],
      "metadata": {
        "colab": {
          "base_uri": "https://localhost:8080/",
          "height": 641
        },
        "id": "3jkjdjo6Al7e",
        "outputId": "be5aa970-8e5d-46a0-ffdf-e05dfb9b0587"
      },
      "execution_count": null,
      "outputs": [
        {
          "output_type": "display_data",
          "data": {
            "text/plain": [
              "<Figure size 1000x700 with 2 Axes>"
            ],
            "image/png": "[encoded data removed]"
          },
          "metadata": {}
        }
      ]
    },
    {
      "cell_type": "markdown",
      "source": [
        "Guardamos el modelo"
      ],
      "metadata": {
        "id": "AFMPSUMQWKAG"
      }
    },
    {
      "cell_type": "code",
      "source": [
        "model.save_pretrained(\"./mask-classifier-vit\")\n",
        "feature_extractor.save_pretrained(\"./mask-classifier-vit\")"
      ],
      "metadata": {
        "id": "M1la4xvmWMzH",
        "colab": {
          "base_uri": "https://localhost:8080/"
        },
        "outputId": "b5ad3b4a-8dfd-4ca1-ff10-5a4880a97ee4"
      },
      "execution_count": null,
      "outputs": [
        {
          "output_type": "execute_result",
          "data": {
            "text/plain": [
              "['./mask-classifier-vit/preprocessor_config.json']"
            ]
          },
          "metadata": {},
          "execution_count": 39
        }
      ]
    },
    {
      "cell_type": "markdown",
      "source": [
        "Predicción en una nueva imagen"
      ],
      "metadata": {
        "id": "BzoX1hBrWQxG"
      }
    },
    {
      "cell_type": "code",
      "source": [
        "def predict(image_path):\n",
        "    image = Image.open(image_path).convert(\"RGB\")\n",
        "    inputs = feature_extractor(images=image, return_tensors=\"pt\").to(device)\n",
        "    outputs = model(**inputs)\n",
        "    probs = torch.nn.functional.softmax(outputs.logits, dim=-1)\n",
        "    prediction = torch.argmax(probs, dim=-1).item()\n",
        "    return labels[prediction]"
      ],
      "metadata": {
        "id": "9u2hxkJqWT0b"
      },
      "execution_count": null,
      "outputs": []
    },
    {
      "cell_type": "markdown",
      "source": [
        "Ejemplo de predicción"
      ],
      "metadata": {
        "id": "PVGHDzEJWXto"
      }
    },
    {
      "cell_type": "code",
      "source": [
        "image_path = \"/content/drive/MyDrive/TP-VPC-II/test/sin_mascarilla/84.png\"\n",
        "print(\"Predicción:\", predict(image_path))"
      ],
      "metadata": {
        "id": "ZQT6LFb6WW7J",
        "colab": {
          "base_uri": "https://localhost:8080/"
        },
        "outputId": "546a8c6b-ea86-4046-c489-779724498dfa"
      },
      "execution_count": null,
      "outputs": [
        {
          "output_type": "stream",
          "name": "stdout",
          "text": [
            "Predicción: sin_mascarilla\n"
          ]
        }
      ]
    },
    {
      "cell_type": "code",
      "source": [
        "def predict(image_path):\n",
        "    image = Image.open(image_path).convert(\"RGB\")\n",
        "\n",
        "    # Display the image\n",
        "    display(image)\n",
        "\n",
        "    inputs = feature_extractor(images=image, return_tensors=\"pt\").to(device)\n",
        "    outputs = model(**inputs)\n",
        "    probs = torch.nn.functional.softmax(outputs.logits, dim=-1)\n",
        "    prediction = torch.argmax(probs, dim=-1).item()\n",
        "    return labels[prediction]\n",
        "\n",
        "# Ejemplo de predicción\n",
        "image_path = \"/content/drive/MyDrive/TP-VPC-II/test/con_mascarilla/85.png\"\n",
        "print(\"Predicción:\", predict(image_path))"
      ],
      "metadata": {
        "colab": {
          "base_uri": "https://localhost:8080/",
          "height": 121
        },
        "id": "8sT1gPGLCfWG",
        "outputId": "e2b95073-a48d-4c3a-88a3-8271b84f0378"
      },
      "execution_count": null,
      "outputs": [
        {
          "output_type": "display_data",
          "data": {
            "text/plain": [
              "<PIL.Image.Image image mode=RGB size=87x87>"
            ],
            "image/png": "[encoded data removed]",
            "image/jpeg": "[encoded data removed]"
          },
          "metadata": {}
        },
        {
          "output_type": "stream",
          "name": "stdout",
          "text": [
            "Predicción: con_mascarilla\n"
          ]
        }
      ]
    }
  ]
}